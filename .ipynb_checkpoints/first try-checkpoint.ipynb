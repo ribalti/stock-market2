{
 "cells": [
  {
   "cell_type": "code",
   "execution_count": 122,
   "metadata": {},
   "outputs": [],
   "source": [
    "import pandas as pd \n",
    "import numpy as np\n",
    "import matplotlib.pyplot as plt\n",
    "import seaborn as sns"
   ]
  },
  {
   "cell_type": "code",
   "execution_count": 123,
   "metadata": {},
   "outputs": [],
   "source": [
    "df1=pd.read_csv('C:/Users/Rihab/Documents/IA/product/HISTORICAL_DATA/3IINFOTECH_data.csv')\n",
    "df1['Companie']=1\n",
    "df2=pd.read_csv('C:/Users/Rihab/Documents/IA/product/HISTORICAL_DATA/3MINDIA_data.csv')\n",
    "df2['Companie']=2\n",
    "df3=pd.read_csv('C:/Users/Rihab/Documents/IA/product/HISTORICAL_DATA/20MICRONS_data.csv')\n",
    "df3['Companie']=3\n",
    "df4=pd.read_csv('C:/Users/Rihab/Documents/IA/product/HISTORICAL_DATA/20MICRONS_data.csv')\n",
    "df4['Companie']=4\n",
    "df5=pd.read_csv('C:/Users/Rihab/Documents/IA/product/HISTORICAL_DATA/RELINFRA_data.csv')\n",
    "df5['Companie']=5\n",
    "df6=pd.read_csv('C:/Users/Rihab/Documents/IA/product/HISTORICAL_DATA/HINDUNILVR_data.csv')\n",
    "df6['Companie']=6\n",
    "df7=pd.read_csv('C:/Users/Rihab/Documents/IA/product/HISTORICAL_DATA/EICHERMOT_data.csv')\n",
    "df7['Companie']=7\n",
    "df8=pd.read_csv('C:/Users/Rihab/Documents/IA/product/HISTORICAL_DATA/HDFCBANK_data.csv')\n",
    "df8['Companie']=8\n",
    "df9=pd.read_csv('C:/Users/Rihab/Documents/IA/product/HISTORICAL_DATA/HDFCBANK_data.csv')\n",
    "df9['Companie']=9\n",
    "df10=pd.read_csv('C:/Users/Rihab/Documents/IA/product/HISTORICAL_DATA/HDFCBANK_data.csv')\n",
    "df10['Companie']=10\n",
    "df11=pd.read_csv('C:/Users/Rihab/Documents/IA/product/HISTORICAL_DATA/HDFCBANK_data.csv')\n",
    "df11['Companie']=11\n",
    "df12=pd.read_csv('C:/Users/Rihab/Documents/IA/product/HISTORICAL_DATA/WIPRO_data.csv')\n",
    "df12['Companie']=12\n",
    "df13=pd.read_csv('C:/Users/Rihab/Documents/IA/product/HISTORICAL_DATA/SIEMENS_data.csv')\n",
    "df13['Companie']=13\n",
    "df14=pd.read_csv('C:/Users/Rihab/Documents/IA/product/HISTORICAL_DATA/CENTURYTEX_data.csv')\n",
    "df14['Companie']=14\n",
    "df15=pd.read_csv('C:/Users/Rihab/Documents/IA/product/HISTORICAL_DATA/SBIN_data.csv')\n",
    "df15['Companie']=15\n",
    "df16=pd.read_csv('C:/Users/Rihab/Documents/IA/product/HISTORICAL_DATA/CIPLA_data.csv')\n",
    "df16['Companie']=16\n",
    "df17=pd.read_csv('C:/Users/Rihab/Documents/IA/product/HISTORICAL_DATA/TATAMOTORS_data.csv')\n",
    "df17['Companie']=17\n",
    "df18=pd.read_csv('C:/Users/Rihab/Documents/IA/product/HISTORICAL_DATA/HINDALCO_data.csv')\n",
    "df18['Companie']=18\n",
    "df19=pd.read_csv('C:/Users/Rihab/Documents/IA/product/HISTORICAL_DATA/TATAMOTORS_data.csv')\n",
    "df19['Companie']=19\n",
    "df20=pd.read_csv('C:/Users/Rihab/Documents/IA/product/HISTORICAL_DATA/BHEL_data.csv')\n",
    "df20['Companie']=20\n",
    "df21=pd.read_csv('C:/Users/Rihab/Documents/IA/product/HISTORICAL_DATA/TATAMOTORS_data.csv')\n",
    "df21['Companie']=21\n",
    "df22=pd.read_csv('C:/Users/Rihab/Documents/IA/product/HISTORICAL_DATA/M&M_data.csv')\n",
    "df22['Companie']=22\n",
    "df23=pd.read_csv('C:/Users/Rihab/Documents/IA/product/HISTORICAL_DATA/TATACHEM_data.csv')\n",
    "df23['Companie']=23\n",
    "df24=pd.read_csv('C:/Users/Rihab/Documents/IA/product/HISTORICAL_DATA/RAYMOND_data.csv')\n",
    "df24['Companie']=24\n",
    "df25=pd.read_csv('C:/Users/Rihab/Documents/IA/product/HISTORICAL_DATA/RAYMOND_data.csv')\n",
    "df25['Companie']=25\n",
    "df26=pd.read_csv('C:/Users/Rihab/Documents/IA/product/HISTORICAL_DATA/BHEL_data.csv')\n",
    "df26['Companie']=26\n",
    "df27=pd.read_csv('C:/Users/Rihab/Documents/IA/product/HISTORICAL_DATA/TATAGLOBAL_data.csv')\n",
    "df27['Companie']=27\n",
    "df28=pd.read_csv('C:/Users/Rihab/Documents/IA/product/HISTORICAL_DATA/GAIL_data.csv')\n",
    "df28['Companie']=28\n",
    "df29=pd.read_csv('C:/Users/Rihab/Documents/IA/product/HISTORICAL_DATA/JINDALSTEL_data.csv')\n",
    "df29['Companie']=29\n",
    "df30=pd.read_csv('C:/Users/Rihab/Documents/IA/product/HISTORICAL_DATA/ESCORTS_data.csv')\n",
    "df30['Companie']=30\n",
    "df31=pd.read_csv('C:/Users/Rihab/Documents/IA/product/HISTORICAL_DATA/INDIACEM_data.csv')\n",
    "df31['Companie']=31\n",
    "df32=pd.read_csv('C:/Users/Rihab/Documents/IA/product/HISTORICAL_DATA/AXISBANK_data.csv')\n",
    "df32['Companie']=32\n",
    "df33=pd.read_csv('C:/Users/Rihab/Documents/IA/product/HISTORICAL_DATA/MTNL_data.csv')\n",
    "df33['Companie']=33\n",
    "df34=pd.read_csv('C:/Users/Rihab/Documents/IA/product/HISTORICAL_DATA/RIIL_data.csv')\n",
    "df34['Companie']=34\n",
    "df35=pd.read_csv('C:/Users/Rihab/Documents/IA/product/HISTORICAL_DATA/BHARATFORG_data.csv')\n",
    "df35['Companie']=35\n",
    "df36=pd.read_csv('C:/Users/Rihab/Documents/IA/product/HISTORICAL_DATA/SUNPHARMA_data.csv')\n",
    "df36['Companie']=36\n",
    "df37=pd.read_csv('C:/Users/Rihab/Documents/IA/product/HISTORICAL_DATA/MOSERBAER_data.csv')\n",
    "df37['Companie']=37\n",
    "df38=pd.read_csv('C:/Users/Rihab/Documents/IA/product/HISTORICAL_DATA/NILKAMAL_data.csv')\n",
    "df38['Companie']=38\n",
    "df39=pd.read_csv('C:/Users/Rihab/Documents/IA/product/HISTORICAL_DATA/TITAN_data.csv')\n",
    "df39['Companie']=39\n",
    "df40=pd.read_csv('C:/Users/Rihab/Documents/IA/product/HISTORICAL_DATA/TATAGLOBAL_data.csv')\n",
    "df40['Companie']=40\n",
    "df41=pd.read_csv('C:/Users/Rihab/Documents/IA/product/HISTORICAL_DATA/TATASPONGE_data.csv')\n",
    "df41['Companie']=41\n",
    "df42=pd.read_csv('C:/Users/Rihab/Documents/IA/product/HISTORICAL_DATA/SAIL_data.csv')\n",
    "df42['Companie']=42\n",
    "df43=pd.read_csv('C:/Users/Rihab/Documents/IA/product/HISTORICAL_DATA/KESORAMIND_data.csv')\n",
    "df43['Companie']=43\n",
    "df44=pd.read_csv('C:/Users/Rihab/Documents/IA/product/HISTORICAL_DATA/HINDOILEXP_data.csv')\n",
    "df44['Companie']=44\n",
    "df45=pd.read_csv('C:/Users/Rihab/Documents/IA/product/HISTORICAL_DATA/DEEPAKFERT_data.csv')\n",
    "df45['Companie']=45\n",
    "df46=pd.read_csv('C:/Users/Rihab/Documents/IA/product/HISTORICAL_DATA/TATAPOWER_data.csv')\n",
    "df46['Companie']=46\n",
    "df47=pd.read_csv('C:/Users/Rihab/Documents/IA/product/HISTORICAL_DATA/ENGINERSIN_data.csv')\n",
    "df47['Companie']=47\n",
    "df48=pd.read_csv('C:/Users/Rihab/Documents/IA/product/HISTORICAL_DATA/EIHOTEL_data.csv')\n",
    "df48['Companie']=48\n",
    "df49=pd.read_csv('C:/Users/Rihab/Documents/IA/product/HISTORICAL_DATA/BOMDYEING_data.csv')\n",
    "df49['Companie']=49\n",
    "df50=pd.read_csv('C:/Users/Rihab/Documents/IA/product/HISTORICAL_DATA/TATAINVEST_data.csv')\n",
    "df50['Companie']=50\n"
   ]
  },
  {
   "cell_type": "code",
   "execution_count": 124,
   "metadata": {},
   "outputs": [],
   "source": [
    "frames = [df1, df2, df3,df4,df5,df6,df7,df8,df9,df10,df11,df12,df13,df14,df15,df16,df17,df18,df19,df20,df21,df22,df23,df24,df25,df26,df27,df28,df29,df30,df31,df32,df33,df34,df35,df36,df37,df38,df39,df40,df41,df42,df43,df44,df45,df46,df47,df48,df49,df50]\n",
    "df = pd.concat(frames)\n",
    "df=df.dropna()\n",
    "\n"
   ]
  },
  {
   "cell_type": "markdown",
   "metadata": {},
   "source": [
    "# DATA Understanding"
   ]
  },
  {
   "cell_type": "markdown",
   "metadata": {},
   "source": [
    "Date\n",
    "\n",
    "open  The Price at which the stock opened for at the start of the trading day\n",
    "\n",
    "high  The highest price reached by the stock during the trading session\n",
    "\n",
    "low   The lowest price reached by the stock during the trading session\n",
    "\n",
    "close The Price at which the stock closed at the the end of the trading day\n",
    "\n",
    "adj_close An adjusted closing price is a stock's closing price on any given day of trading that has been amended to include any distributions and corporate actions that occurred at any time before the next day's open.\n",
    "\n",
    "volume The number of shares traded in a day including both sold and bought"
   ]
  },
  {
   "cell_type": "code",
   "execution_count": 125,
   "metadata": {},
   "outputs": [
    {
     "data": {
      "text/html": [
       "<div>\n",
       "<style scoped>\n",
       "    .dataframe tbody tr th:only-of-type {\n",
       "        vertical-align: middle;\n",
       "    }\n",
       "\n",
       "    .dataframe tbody tr th {\n",
       "        vertical-align: top;\n",
       "    }\n",
       "\n",
       "    .dataframe thead th {\n",
       "        text-align: right;\n",
       "    }\n",
       "</style>\n",
       "<table border=\"1\" class=\"dataframe\">\n",
       "  <thead>\n",
       "    <tr style=\"text-align: right;\">\n",
       "      <th></th>\n",
       "      <th>Date</th>\n",
       "      <th>open</th>\n",
       "      <th>high</th>\n",
       "      <th>low</th>\n",
       "      <th>close</th>\n",
       "      <th>adj_close</th>\n",
       "      <th>volume</th>\n",
       "      <th>Company</th>\n",
       "    </tr>\n",
       "  </thead>\n",
       "  <tbody>\n",
       "    <tr>\n",
       "      <th>0</th>\n",
       "      <td>2005-04-22</td>\n",
       "      <td>59.000000</td>\n",
       "      <td>59.000000</td>\n",
       "      <td>48.000000</td>\n",
       "      <td>49.049999</td>\n",
       "      <td>41.943699</td>\n",
       "      <td>33041772.0</td>\n",
       "      <td>1</td>\n",
       "    </tr>\n",
       "    <tr>\n",
       "      <th>1</th>\n",
       "      <td>2005-04-25</td>\n",
       "      <td>49.450001</td>\n",
       "      <td>49.849998</td>\n",
       "      <td>47.099998</td>\n",
       "      <td>47.480000</td>\n",
       "      <td>40.601158</td>\n",
       "      <td>10215112.0</td>\n",
       "      <td>1</td>\n",
       "    </tr>\n",
       "    <tr>\n",
       "      <th>2</th>\n",
       "      <td>2005-04-26</td>\n",
       "      <td>47.830002</td>\n",
       "      <td>48.130001</td>\n",
       "      <td>46.549999</td>\n",
       "      <td>46.700001</td>\n",
       "      <td>39.934158</td>\n",
       "      <td>6801556.0</td>\n",
       "      <td>1</td>\n",
       "    </tr>\n",
       "    <tr>\n",
       "      <th>3</th>\n",
       "      <td>2005-04-27</td>\n",
       "      <td>46.700001</td>\n",
       "      <td>50.880001</td>\n",
       "      <td>46.180000</td>\n",
       "      <td>48.049999</td>\n",
       "      <td>41.088577</td>\n",
       "      <td>18723616.0</td>\n",
       "      <td>1</td>\n",
       "    </tr>\n",
       "    <tr>\n",
       "      <th>4</th>\n",
       "      <td>2005-04-28</td>\n",
       "      <td>48.000000</td>\n",
       "      <td>49.349998</td>\n",
       "      <td>47.330002</td>\n",
       "      <td>47.779999</td>\n",
       "      <td>40.857693</td>\n",
       "      <td>7412076.0</td>\n",
       "      <td>1</td>\n",
       "    </tr>\n",
       "  </tbody>\n",
       "</table>\n",
       "</div>"
      ],
      "text/plain": [
       "         Date       open       high        low      close  adj_close  \\\n",
       "0  2005-04-22  59.000000  59.000000  48.000000  49.049999  41.943699   \n",
       "1  2005-04-25  49.450001  49.849998  47.099998  47.480000  40.601158   \n",
       "2  2005-04-26  47.830002  48.130001  46.549999  46.700001  39.934158   \n",
       "3  2005-04-27  46.700001  50.880001  46.180000  48.049999  41.088577   \n",
       "4  2005-04-28  48.000000  49.349998  47.330002  47.779999  40.857693   \n",
       "\n",
       "       volume  Company  \n",
       "0  33041772.0        1  \n",
       "1  10215112.0        1  \n",
       "2   6801556.0        1  \n",
       "3  18723616.0        1  \n",
       "4   7412076.0        1  "
      ]
     },
     "execution_count": 125,
     "metadata": {},
     "output_type": "execute_result"
    }
   ],
   "source": [
    "df = df.rename(columns={'Companie': 'Company'})\n",
    "df.head()"
   ]
  },
  {
   "cell_type": "code",
   "execution_count": 126,
   "metadata": {},
   "outputs": [
    {
     "data": {
      "text/plain": [
       "(217328, 8)"
      ]
     },
     "execution_count": 126,
     "metadata": {},
     "output_type": "execute_result"
    }
   ],
   "source": [
    "df.shape"
   ]
  },
  {
   "cell_type": "code",
   "execution_count": 127,
   "metadata": {},
   "outputs": [
    {
     "name": "stdout",
     "output_type": "stream",
     "text": [
      "<class 'pandas.core.frame.DataFrame'>\n",
      "Int64Index: 217328 entries, 0 to 4551\n",
      "Data columns (total 8 columns):\n",
      "Date         217328 non-null object\n",
      "open         217328 non-null float64\n",
      "high         217328 non-null float64\n",
      "low          217328 non-null float64\n",
      "close        217328 non-null float64\n",
      "adj_close    217328 non-null float64\n",
      "volume       217328 non-null float64\n",
      "Company      217328 non-null int64\n",
      "dtypes: float64(6), int64(1), object(1)\n",
      "memory usage: 14.9+ MB\n"
     ]
    }
   ],
   "source": [
    "df.info()"
   ]
  },
  {
   "cell_type": "code",
   "execution_count": 128,
   "metadata": {},
   "outputs": [
    {
     "data": {
      "text/html": [
       "<div>\n",
       "<style scoped>\n",
       "    .dataframe tbody tr th:only-of-type {\n",
       "        vertical-align: middle;\n",
       "    }\n",
       "\n",
       "    .dataframe tbody tr th {\n",
       "        vertical-align: top;\n",
       "    }\n",
       "\n",
       "    .dataframe thead th {\n",
       "        text-align: right;\n",
       "    }\n",
       "</style>\n",
       "<table border=\"1\" class=\"dataframe\">\n",
       "  <thead>\n",
       "    <tr style=\"text-align: right;\">\n",
       "      <th></th>\n",
       "      <th>Company</th>\n",
       "      <th>open</th>\n",
       "      <th>high</th>\n",
       "      <th>low</th>\n",
       "      <th>close</th>\n",
       "      <th>adj_close</th>\n",
       "      <th>volume</th>\n",
       "    </tr>\n",
       "  </thead>\n",
       "  <tbody>\n",
       "    <tr>\n",
       "      <th>0</th>\n",
       "      <td>1</td>\n",
       "      <td>45.385956</td>\n",
       "      <td>46.442273</td>\n",
       "      <td>44.189632</td>\n",
       "      <td>45.149331</td>\n",
       "      <td>41.664792</td>\n",
       "      <td>2.014464e+06</td>\n",
       "    </tr>\n",
       "    <tr>\n",
       "      <th>1</th>\n",
       "      <td>2</td>\n",
       "      <td>4096.195974</td>\n",
       "      <td>4161.262162</td>\n",
       "      <td>4027.010373</td>\n",
       "      <td>4086.509560</td>\n",
       "      <td>4086.509560</td>\n",
       "      <td>1.614830e+03</td>\n",
       "    </tr>\n",
       "    <tr>\n",
       "      <th>2</th>\n",
       "      <td>3</td>\n",
       "      <td>31.872144</td>\n",
       "      <td>32.682504</td>\n",
       "      <td>31.003551</td>\n",
       "      <td>31.666388</td>\n",
       "      <td>30.464483</td>\n",
       "      <td>1.931262e+05</td>\n",
       "    </tr>\n",
       "    <tr>\n",
       "      <th>3</th>\n",
       "      <td>4</td>\n",
       "      <td>31.872144</td>\n",
       "      <td>32.682504</td>\n",
       "      <td>31.003551</td>\n",
       "      <td>31.666388</td>\n",
       "      <td>30.464483</td>\n",
       "      <td>1.931262e+05</td>\n",
       "    </tr>\n",
       "    <tr>\n",
       "      <th>4</th>\n",
       "      <td>5</td>\n",
       "      <td>567.132955</td>\n",
       "      <td>579.297830</td>\n",
       "      <td>553.393286</td>\n",
       "      <td>565.732187</td>\n",
       "      <td>502.727239</td>\n",
       "      <td>1.638447e+06</td>\n",
       "    </tr>\n",
       "  </tbody>\n",
       "</table>\n",
       "</div>"
      ],
      "text/plain": [
       "   Company         open         high          low        close    adj_close  \\\n",
       "0        1    45.385956    46.442273    44.189632    45.149331    41.664792   \n",
       "1        2  4096.195974  4161.262162  4027.010373  4086.509560  4086.509560   \n",
       "2        3    31.872144    32.682504    31.003551    31.666388    30.464483   \n",
       "3        4    31.872144    32.682504    31.003551    31.666388    30.464483   \n",
       "4        5   567.132955   579.297830   553.393286   565.732187   502.727239   \n",
       "\n",
       "         volume  \n",
       "0  2.014464e+06  \n",
       "1  1.614830e+03  \n",
       "2  1.931262e+05  \n",
       "3  1.931262e+05  \n",
       "4  1.638447e+06  "
      ]
     },
     "execution_count": 128,
     "metadata": {},
     "output_type": "execute_result"
    }
   ],
   "source": [
    "df.groupby(['Company'], as_index=False).mean().head()\n"
   ]
  },
  {
   "cell_type": "markdown",
   "metadata": {},
   "source": [
    "in average almost all the companies finish the session with a rate under 1000"
   ]
  },
  {
   "cell_type": "code",
   "execution_count": 129,
   "metadata": {},
   "outputs": [
    {
     "data": {
      "text/plain": [
       "<matplotlib.axes._subplots.AxesSubplot at 0x1d38ea21438>"
      ]
     },
     "execution_count": 129,
     "metadata": {},
     "output_type": "execute_result"
    },
    {
     "data": {
      "image/png": "[encoded data removed]",
      "text/plain": [
       "<Figure size 864x576 with 1 Axes>"
      ]
     },
     "metadata": {},
     "output_type": "display_data"
    }
   ],
   "source": [
    "plt.figure(figsize=(12,8))\n",
    "sns.countplot(x='Company',data=df)\n"
   ]
  },
  {
   "cell_type": "markdown",
   "metadata": {},
   "source": [
    "we have almost for all the 50 Cmpanies,informations for more then 4000 days \n",
    "execpt 4"
   ]
  },
  {
   "cell_type": "code",
   "execution_count": 130,
   "metadata": {},
   "outputs": [
    {
     "data": {
      "text/plain": [
       "[<matplotlib.lines.Line2D at 0x1d381269588>]"
      ]
     },
     "execution_count": 130,
     "metadata": {},
     "output_type": "execute_result"
    },
    {
     "data": {
      "image/png": "[encoded data removed]",
      "text/plain": [
       "<Figure size 432x288 with 2 Axes>"
      ]
     },
     "metadata": {},
     "output_type": "display_data"
    }
   ],
   "source": [
    "dd=df.groupby(['Company'], as_index=False).mean()\n",
    "plt.subplot(2,1,1)\n",
    "plt.plot(dd['Company'],dd['close'])\n",
    "plt.subplot(2,1,2)\n",
    "plt.plot(dd['Company'],dd['open'])"
   ]
  },
  {
   "cell_type": "markdown",
   "metadata": {},
   "source": [
    "this figure shows that there is no big difference between the close of a share and the open "
   ]
  },
  {
   "cell_type": "code",
   "execution_count": 131,
   "metadata": {},
   "outputs": [
    {
     "data": {
      "text/plain": [
       "[<matplotlib.lines.Line2D at 0x1d38c1f75c0>]"
      ]
     },
     "execution_count": 131,
     "metadata": {},
     "output_type": "execute_result"
    },
    {
     "data": {
      "image/png": "[encoded data removed]",
      "text/plain": [
       "<Figure size 432x288 with 2 Axes>"
      ]
     },
     "metadata": {},
     "output_type": "display_data"
    }
   ],
   "source": [
    "data1=df[df['Company']==1]\n",
    "plt.subplot(2,1,1)\n",
    "plt.plot(data1['open'],data1['close'])\n",
    "plt.subplot(2,1,2)\n",
    "plt.plot(data1['high'],data1['low'])"
   ]
  },
  {
   "cell_type": "markdown",
   "metadata": {},
   "source": [
    "there is a big correlation betweeen close and open values for company 1"
   ]
  },
  {
   "cell_type": "code",
   "execution_count": 132,
   "metadata": {},
   "outputs": [
    {
     "data": {
      "text/plain": [
       "[<matplotlib.lines.Line2D at 0x1d380066c88>]"
      ]
     },
     "execution_count": 132,
     "metadata": {},
     "output_type": "execute_result"
    },
    {
     "data": {
      "image/png": "[encoded data removed]",
      "text/plain": [
       "<Figure size 432x288 with 2 Axes>"
      ]
     },
     "metadata": {},
     "output_type": "display_data"
    }
   ],
   "source": [
    "data25=df[df['Company']==25]\n",
    "plt.subplot(2,1,1)\n",
    "plt.plot(data25['open'],data25['close'])\n",
    "plt.subplot(2,1,2)\n",
    "plt.plot(data25['high'],data25['low'])"
   ]
  },
  {
   "cell_type": "markdown",
   "metadata": {},
   "source": [
    "despite some noise there is big correation  betweeen close and open values for company 25"
   ]
  },
  {
   "cell_type": "markdown",
   "metadata": {},
   "source": [
    "there is a big correlation between the input variables"
   ]
  },
  {
   "cell_type": "code",
   "execution_count": 133,
   "metadata": {},
   "outputs": [],
   "source": [
    "def plot_correlation_map( df ):\n",
    "    corr = df.corr()\n",
    "    s , ax = plt.subplots( figsize =( 20 , 20 ) )\n",
    "    cmap = sns.diverging_palette( 220 , 10 , as_cmap = False )\n",
    "    s = sns.heatmap(\n",
    "        corr,\n",
    "        cmap = cmap,\n",
    "        square=True,\n",
    "        cbar_kws={ 'shrink' : .9 },\n",
    "        ax=ax,\n",
    "        annot = True,\n",
    "        annot_kws = { 'fontsize' : 12 }\n",
    "        )\n",
    "   "
   ]
  },
  {
   "cell_type": "code",
   "execution_count": 134,
   "metadata": {},
   "outputs": [
    {
     "data": {
      "image/png": "[encoded data removed]",
      "text/plain": [
       "<Figure size 1440x1440 with 2 Axes>"
      ]
     },
     "metadata": {},
     "output_type": "display_data"
    }
   ],
   "source": [
    "plot_correlation_map(data25)"
   ]
  },
  {
   "cell_type": "markdown",
   "metadata": {},
   "source": [
    "# adding the output"
   ]
  },
  {
   "cell_type": "code",
   "execution_count": 135,
   "metadata": {},
   "outputs": [
    {
     "data": {
      "text/html": [
       "<div>\n",
       "<style scoped>\n",
       "    .dataframe tbody tr th:only-of-type {\n",
       "        vertical-align: middle;\n",
       "    }\n",
       "\n",
       "    .dataframe tbody tr th {\n",
       "        vertical-align: top;\n",
       "    }\n",
       "\n",
       "    .dataframe thead th {\n",
       "        text-align: right;\n",
       "    }\n",
       "</style>\n",
       "<table border=\"1\" class=\"dataframe\">\n",
       "  <thead>\n",
       "    <tr style=\"text-align: right;\">\n",
       "      <th></th>\n",
       "      <th>Date</th>\n",
       "      <th>open</th>\n",
       "      <th>high</th>\n",
       "      <th>low</th>\n",
       "      <th>close</th>\n",
       "      <th>adj_close</th>\n",
       "      <th>volume</th>\n",
       "      <th>Company</th>\n",
       "      <th>variation</th>\n",
       "    </tr>\n",
       "  </thead>\n",
       "  <tbody>\n",
       "    <tr>\n",
       "      <th>0</th>\n",
       "      <td>2005-04-22</td>\n",
       "      <td>59.000000</td>\n",
       "      <td>59.000000</td>\n",
       "      <td>48.000000</td>\n",
       "      <td>49.049999</td>\n",
       "      <td>41.943699</td>\n",
       "      <td>33041772.0</td>\n",
       "      <td>1</td>\n",
       "      <td>22.426096</td>\n",
       "    </tr>\n",
       "    <tr>\n",
       "      <th>1</th>\n",
       "      <td>2005-04-25</td>\n",
       "      <td>49.450001</td>\n",
       "      <td>49.849998</td>\n",
       "      <td>47.099998</td>\n",
       "      <td>47.480000</td>\n",
       "      <td>40.601158</td>\n",
       "      <td>10215112.0</td>\n",
       "      <td>1</td>\n",
       "      <td>5.791912</td>\n",
       "    </tr>\n",
       "    <tr>\n",
       "      <th>2</th>\n",
       "      <td>2005-04-26</td>\n",
       "      <td>47.830002</td>\n",
       "      <td>48.130001</td>\n",
       "      <td>46.549999</td>\n",
       "      <td>46.700001</td>\n",
       "      <td>39.934158</td>\n",
       "      <td>6801556.0</td>\n",
       "      <td>1</td>\n",
       "      <td>3.383302</td>\n",
       "    </tr>\n",
       "    <tr>\n",
       "      <th>3</th>\n",
       "      <td>2005-04-27</td>\n",
       "      <td>46.700001</td>\n",
       "      <td>50.880001</td>\n",
       "      <td>46.180000</td>\n",
       "      <td>48.049999</td>\n",
       "      <td>41.088577</td>\n",
       "      <td>18723616.0</td>\n",
       "      <td>1</td>\n",
       "      <td>9.781480</td>\n",
       "    </tr>\n",
       "    <tr>\n",
       "      <th>4</th>\n",
       "      <td>2005-04-28</td>\n",
       "      <td>48.000000</td>\n",
       "      <td>49.349998</td>\n",
       "      <td>47.330002</td>\n",
       "      <td>47.779999</td>\n",
       "      <td>40.857693</td>\n",
       "      <td>7412076.0</td>\n",
       "      <td>1</td>\n",
       "      <td>4.227702</td>\n",
       "    </tr>\n",
       "  </tbody>\n",
       "</table>\n",
       "</div>"
      ],
      "text/plain": [
       "         Date       open       high        low      close  adj_close  \\\n",
       "0  2005-04-22  59.000000  59.000000  48.000000  49.049999  41.943699   \n",
       "1  2005-04-25  49.450001  49.849998  47.099998  47.480000  40.601158   \n",
       "2  2005-04-26  47.830002  48.130001  46.549999  46.700001  39.934158   \n",
       "3  2005-04-27  46.700001  50.880001  46.180000  48.049999  41.088577   \n",
       "4  2005-04-28  48.000000  49.349998  47.330002  47.779999  40.857693   \n",
       "\n",
       "       volume  Company  variation  \n",
       "0  33041772.0        1  22.426096  \n",
       "1  10215112.0        1   5.791912  \n",
       "2   6801556.0        1   3.383302  \n",
       "3  18723616.0        1   9.781480  \n",
       "4   7412076.0        1   4.227702  "
      ]
     },
     "execution_count": 135,
     "metadata": {},
     "output_type": "execute_result"
    }
   ],
   "source": [
    "list1=list(df['high'])\n",
    "list2=list(df['low'])\n",
    "list3=list(df['close'])\n",
    "df['variation']=list(map(lambda x,y,z:((x-y)/z)*100,list1,list2,list3))\n",
    "df.head()"
   ]
  },
  {
   "cell_type": "raw",
   "metadata": {},
   "source": [
    "# Investors use daily price variation data in a number of ways. The data serve foremost as an indicator of volatility. A stock with a very large daily price variation is very volatile and may be expected to change its value quickly over time. When daily price variations are small, it indicates more consensus within the market about the value of the stock. Stable daily price variations over time show that a stock is unlikely to shoot up or plummet in value on any given day."
   ]
  },
  {
   "cell_type": "code",
   "execution_count": 136,
   "metadata": {},
   "outputs": [
    {
     "data": {
      "text/html": [
       "<div>\n",
       "<style scoped>\n",
       "    .dataframe tbody tr th:only-of-type {\n",
       "        vertical-align: middle;\n",
       "    }\n",
       "\n",
       "    .dataframe tbody tr th {\n",
       "        vertical-align: top;\n",
       "    }\n",
       "\n",
       "    .dataframe thead th {\n",
       "        text-align: right;\n",
       "    }\n",
       "</style>\n",
       "<table border=\"1\" class=\"dataframe\">\n",
       "  <thead>\n",
       "    <tr style=\"text-align: right;\">\n",
       "      <th></th>\n",
       "      <th>open</th>\n",
       "      <th>high</th>\n",
       "      <th>low</th>\n",
       "      <th>close</th>\n",
       "      <th>adj_close</th>\n",
       "      <th>volume</th>\n",
       "      <th>variation</th>\n",
       "      <th>open</th>\n",
       "      <th>high</th>\n",
       "      <th>low</th>\n",
       "      <th>...</th>\n",
       "      <th>volume</th>\n",
       "      <th>variation</th>\n",
       "      <th>open</th>\n",
       "      <th>high</th>\n",
       "      <th>low</th>\n",
       "      <th>close</th>\n",
       "      <th>adj_close</th>\n",
       "      <th>volume</th>\n",
       "      <th>variation</th>\n",
       "      <th>Company</th>\n",
       "    </tr>\n",
       "  </thead>\n",
       "  <tbody>\n",
       "    <tr>\n",
       "      <th>0</th>\n",
       "      <td>NaN</td>\n",
       "      <td>NaN</td>\n",
       "      <td>NaN</td>\n",
       "      <td>NaN</td>\n",
       "      <td>NaN</td>\n",
       "      <td>NaN</td>\n",
       "      <td>NaN</td>\n",
       "      <td>NaN</td>\n",
       "      <td>NaN</td>\n",
       "      <td>NaN</td>\n",
       "      <td>...</td>\n",
       "      <td>NaN</td>\n",
       "      <td>NaN</td>\n",
       "      <td>59.000000</td>\n",
       "      <td>59.000000</td>\n",
       "      <td>48.000000</td>\n",
       "      <td>49.049999</td>\n",
       "      <td>41.943699</td>\n",
       "      <td>33041772.0</td>\n",
       "      <td>22.426096</td>\n",
       "      <td>1</td>\n",
       "    </tr>\n",
       "    <tr>\n",
       "      <th>1</th>\n",
       "      <td>NaN</td>\n",
       "      <td>NaN</td>\n",
       "      <td>NaN</td>\n",
       "      <td>NaN</td>\n",
       "      <td>NaN</td>\n",
       "      <td>NaN</td>\n",
       "      <td>NaN</td>\n",
       "      <td>59.000000</td>\n",
       "      <td>59.000000</td>\n",
       "      <td>48.000000</td>\n",
       "      <td>...</td>\n",
       "      <td>33041772.0</td>\n",
       "      <td>22.426096</td>\n",
       "      <td>49.450001</td>\n",
       "      <td>49.849998</td>\n",
       "      <td>47.099998</td>\n",
       "      <td>47.480000</td>\n",
       "      <td>40.601158</td>\n",
       "      <td>10215112.0</td>\n",
       "      <td>5.791912</td>\n",
       "      <td>1</td>\n",
       "    </tr>\n",
       "    <tr>\n",
       "      <th>2</th>\n",
       "      <td>59.000000</td>\n",
       "      <td>59.000000</td>\n",
       "      <td>48.000000</td>\n",
       "      <td>49.049999</td>\n",
       "      <td>41.943699</td>\n",
       "      <td>33041772.0</td>\n",
       "      <td>22.426096</td>\n",
       "      <td>49.450001</td>\n",
       "      <td>49.849998</td>\n",
       "      <td>47.099998</td>\n",
       "      <td>...</td>\n",
       "      <td>10215112.0</td>\n",
       "      <td>5.791912</td>\n",
       "      <td>47.830002</td>\n",
       "      <td>48.130001</td>\n",
       "      <td>46.549999</td>\n",
       "      <td>46.700001</td>\n",
       "      <td>39.934158</td>\n",
       "      <td>6801556.0</td>\n",
       "      <td>3.383302</td>\n",
       "      <td>1</td>\n",
       "    </tr>\n",
       "    <tr>\n",
       "      <th>3</th>\n",
       "      <td>49.450001</td>\n",
       "      <td>49.849998</td>\n",
       "      <td>47.099998</td>\n",
       "      <td>47.480000</td>\n",
       "      <td>40.601158</td>\n",
       "      <td>10215112.0</td>\n",
       "      <td>5.791912</td>\n",
       "      <td>47.830002</td>\n",
       "      <td>48.130001</td>\n",
       "      <td>46.549999</td>\n",
       "      <td>...</td>\n",
       "      <td>6801556.0</td>\n",
       "      <td>3.383302</td>\n",
       "      <td>46.700001</td>\n",
       "      <td>50.880001</td>\n",
       "      <td>46.180000</td>\n",
       "      <td>48.049999</td>\n",
       "      <td>41.088577</td>\n",
       "      <td>18723616.0</td>\n",
       "      <td>9.781480</td>\n",
       "      <td>1</td>\n",
       "    </tr>\n",
       "    <tr>\n",
       "      <th>4</th>\n",
       "      <td>47.830002</td>\n",
       "      <td>48.130001</td>\n",
       "      <td>46.549999</td>\n",
       "      <td>46.700001</td>\n",
       "      <td>39.934158</td>\n",
       "      <td>6801556.0</td>\n",
       "      <td>3.383302</td>\n",
       "      <td>46.700001</td>\n",
       "      <td>50.880001</td>\n",
       "      <td>46.180000</td>\n",
       "      <td>...</td>\n",
       "      <td>18723616.0</td>\n",
       "      <td>9.781480</td>\n",
       "      <td>48.000000</td>\n",
       "      <td>49.349998</td>\n",
       "      <td>47.330002</td>\n",
       "      <td>47.779999</td>\n",
       "      <td>40.857693</td>\n",
       "      <td>7412076.0</td>\n",
       "      <td>4.227702</td>\n",
       "      <td>1</td>\n",
       "    </tr>\n",
       "  </tbody>\n",
       "</table>\n",
       "<p>5 rows × 22 columns</p>\n",
       "</div>"
      ],
      "text/plain": [
       "        open       high        low      close  adj_close      volume  \\\n",
       "0        NaN        NaN        NaN        NaN        NaN         NaN   \n",
       "1        NaN        NaN        NaN        NaN        NaN         NaN   \n",
       "2  59.000000  59.000000  48.000000  49.049999  41.943699  33041772.0   \n",
       "3  49.450001  49.849998  47.099998  47.480000  40.601158  10215112.0   \n",
       "4  47.830002  48.130001  46.549999  46.700001  39.934158   6801556.0   \n",
       "\n",
       "   variation       open       high        low   ...         volume  variation  \\\n",
       "0        NaN        NaN        NaN        NaN   ...            NaN        NaN   \n",
       "1        NaN  59.000000  59.000000  48.000000   ...     33041772.0  22.426096   \n",
       "2  22.426096  49.450001  49.849998  47.099998   ...     10215112.0   5.791912   \n",
       "3   5.791912  47.830002  48.130001  46.549999   ...      6801556.0   3.383302   \n",
       "4   3.383302  46.700001  50.880001  46.180000   ...     18723616.0   9.781480   \n",
       "\n",
       "        open       high        low      close  adj_close      volume  \\\n",
       "0  59.000000  59.000000  48.000000  49.049999  41.943699  33041772.0   \n",
       "1  49.450001  49.849998  47.099998  47.480000  40.601158  10215112.0   \n",
       "2  47.830002  48.130001  46.549999  46.700001  39.934158   6801556.0   \n",
       "3  46.700001  50.880001  46.180000  48.049999  41.088577  18723616.0   \n",
       "4  48.000000  49.349998  47.330002  47.779999  40.857693   7412076.0   \n",
       "\n",
       "   variation  Company  \n",
       "0  22.426096        1  \n",
       "1   5.791912        1  \n",
       "2   3.383302        1  \n",
       "3   9.781480        1  \n",
       "4   4.227702        1  \n",
       "\n",
       "[5 rows x 22 columns]"
      ]
     },
     "execution_count": 136,
     "metadata": {},
     "output_type": "execute_result"
    }
   ],
   "source": [
    "col = ['open', 'high', 'low', 'close', 'adj_close', 'volume', 'variation']\n",
    "data = df[col]\n",
    "x1 = data.shift(1)\n",
    "x2 = data.shift(2)\n",
    "\n",
    "data = pd.concat([x2, x1, data], axis=1)\n",
    "data['Company']=df['Company']\n",
    "data.head()"
   ]
  },
  {
   "cell_type": "code",
   "execution_count": 137,
   "metadata": {},
   "outputs": [
    {
     "data": {
      "text/html": [
       "<div>\n",
       "<style scoped>\n",
       "    .dataframe tbody tr th:only-of-type {\n",
       "        vertical-align: middle;\n",
       "    }\n",
       "\n",
       "    .dataframe tbody tr th {\n",
       "        vertical-align: top;\n",
       "    }\n",
       "\n",
       "    .dataframe thead th {\n",
       "        text-align: right;\n",
       "    }\n",
       "</style>\n",
       "<table border=\"1\" class=\"dataframe\">\n",
       "  <thead>\n",
       "    <tr style=\"text-align: right;\">\n",
       "      <th></th>\n",
       "      <th>open</th>\n",
       "      <th>high</th>\n",
       "      <th>low</th>\n",
       "      <th>close</th>\n",
       "      <th>adj_close</th>\n",
       "      <th>volume</th>\n",
       "      <th>variation</th>\n",
       "      <th>open</th>\n",
       "      <th>high</th>\n",
       "      <th>low</th>\n",
       "      <th>...</th>\n",
       "      <th>volume</th>\n",
       "      <th>variation</th>\n",
       "      <th>open</th>\n",
       "      <th>high</th>\n",
       "      <th>low</th>\n",
       "      <th>close</th>\n",
       "      <th>adj_close</th>\n",
       "      <th>volume</th>\n",
       "      <th>variation</th>\n",
       "      <th>Company</th>\n",
       "    </tr>\n",
       "  </thead>\n",
       "  <tbody>\n",
       "    <tr>\n",
       "      <th>2</th>\n",
       "      <td>59.000000</td>\n",
       "      <td>59.000000</td>\n",
       "      <td>48.000000</td>\n",
       "      <td>49.049999</td>\n",
       "      <td>41.943699</td>\n",
       "      <td>33041772.0</td>\n",
       "      <td>22.426096</td>\n",
       "      <td>49.450001</td>\n",
       "      <td>49.849998</td>\n",
       "      <td>47.099998</td>\n",
       "      <td>...</td>\n",
       "      <td>10215112.0</td>\n",
       "      <td>5.791912</td>\n",
       "      <td>47.830002</td>\n",
       "      <td>48.130001</td>\n",
       "      <td>46.549999</td>\n",
       "      <td>46.700001</td>\n",
       "      <td>39.934158</td>\n",
       "      <td>6801556.0</td>\n",
       "      <td>3.383302</td>\n",
       "      <td>1</td>\n",
       "    </tr>\n",
       "    <tr>\n",
       "      <th>3</th>\n",
       "      <td>49.450001</td>\n",
       "      <td>49.849998</td>\n",
       "      <td>47.099998</td>\n",
       "      <td>47.480000</td>\n",
       "      <td>40.601158</td>\n",
       "      <td>10215112.0</td>\n",
       "      <td>5.791912</td>\n",
       "      <td>47.830002</td>\n",
       "      <td>48.130001</td>\n",
       "      <td>46.549999</td>\n",
       "      <td>...</td>\n",
       "      <td>6801556.0</td>\n",
       "      <td>3.383302</td>\n",
       "      <td>46.700001</td>\n",
       "      <td>50.880001</td>\n",
       "      <td>46.180000</td>\n",
       "      <td>48.049999</td>\n",
       "      <td>41.088577</td>\n",
       "      <td>18723616.0</td>\n",
       "      <td>9.781480</td>\n",
       "      <td>1</td>\n",
       "    </tr>\n",
       "    <tr>\n",
       "      <th>4</th>\n",
       "      <td>47.830002</td>\n",
       "      <td>48.130001</td>\n",
       "      <td>46.549999</td>\n",
       "      <td>46.700001</td>\n",
       "      <td>39.934158</td>\n",
       "      <td>6801556.0</td>\n",
       "      <td>3.383302</td>\n",
       "      <td>46.700001</td>\n",
       "      <td>50.880001</td>\n",
       "      <td>46.180000</td>\n",
       "      <td>...</td>\n",
       "      <td>18723616.0</td>\n",
       "      <td>9.781480</td>\n",
       "      <td>48.000000</td>\n",
       "      <td>49.349998</td>\n",
       "      <td>47.330002</td>\n",
       "      <td>47.779999</td>\n",
       "      <td>40.857693</td>\n",
       "      <td>7412076.0</td>\n",
       "      <td>4.227702</td>\n",
       "      <td>1</td>\n",
       "    </tr>\n",
       "    <tr>\n",
       "      <th>5</th>\n",
       "      <td>46.700001</td>\n",
       "      <td>50.880001</td>\n",
       "      <td>46.180000</td>\n",
       "      <td>48.049999</td>\n",
       "      <td>41.088577</td>\n",
       "      <td>18723616.0</td>\n",
       "      <td>9.781480</td>\n",
       "      <td>48.000000</td>\n",
       "      <td>49.349998</td>\n",
       "      <td>47.330002</td>\n",
       "      <td>...</td>\n",
       "      <td>7412076.0</td>\n",
       "      <td>4.227702</td>\n",
       "      <td>47.930000</td>\n",
       "      <td>48.430000</td>\n",
       "      <td>46.250000</td>\n",
       "      <td>46.700001</td>\n",
       "      <td>39.934158</td>\n",
       "      <td>4424740.0</td>\n",
       "      <td>4.668094</td>\n",
       "      <td>1</td>\n",
       "    </tr>\n",
       "    <tr>\n",
       "      <th>6</th>\n",
       "      <td>48.000000</td>\n",
       "      <td>49.349998</td>\n",
       "      <td>47.330002</td>\n",
       "      <td>47.779999</td>\n",
       "      <td>40.857693</td>\n",
       "      <td>7412076.0</td>\n",
       "      <td>4.227702</td>\n",
       "      <td>47.930000</td>\n",
       "      <td>48.430000</td>\n",
       "      <td>46.250000</td>\n",
       "      <td>...</td>\n",
       "      <td>4424740.0</td>\n",
       "      <td>4.668094</td>\n",
       "      <td>51.000000</td>\n",
       "      <td>51.000000</td>\n",
       "      <td>46.799999</td>\n",
       "      <td>47.080002</td>\n",
       "      <td>40.259109</td>\n",
       "      <td>3559280.0</td>\n",
       "      <td>8.920987</td>\n",
       "      <td>1</td>\n",
       "    </tr>\n",
       "  </tbody>\n",
       "</table>\n",
       "<p>5 rows × 22 columns</p>\n",
       "</div>"
      ],
      "text/plain": [
       "        open       high        low      close  adj_close      volume  \\\n",
       "2  59.000000  59.000000  48.000000  49.049999  41.943699  33041772.0   \n",
       "3  49.450001  49.849998  47.099998  47.480000  40.601158  10215112.0   \n",
       "4  47.830002  48.130001  46.549999  46.700001  39.934158   6801556.0   \n",
       "5  46.700001  50.880001  46.180000  48.049999  41.088577  18723616.0   \n",
       "6  48.000000  49.349998  47.330002  47.779999  40.857693   7412076.0   \n",
       "\n",
       "   variation       open       high        low   ...         volume  variation  \\\n",
       "2  22.426096  49.450001  49.849998  47.099998   ...     10215112.0   5.791912   \n",
       "3   5.791912  47.830002  48.130001  46.549999   ...      6801556.0   3.383302   \n",
       "4   3.383302  46.700001  50.880001  46.180000   ...     18723616.0   9.781480   \n",
       "5   9.781480  48.000000  49.349998  47.330002   ...      7412076.0   4.227702   \n",
       "6   4.227702  47.930000  48.430000  46.250000   ...      4424740.0   4.668094   \n",
       "\n",
       "        open       high        low      close  adj_close      volume  \\\n",
       "2  47.830002  48.130001  46.549999  46.700001  39.934158   6801556.0   \n",
       "3  46.700001  50.880001  46.180000  48.049999  41.088577  18723616.0   \n",
       "4  48.000000  49.349998  47.330002  47.779999  40.857693   7412076.0   \n",
       "5  47.930000  48.430000  46.250000  46.700001  39.934158   4424740.0   \n",
       "6  51.000000  51.000000  46.799999  47.080002  40.259109   3559280.0   \n",
       "\n",
       "   variation  Company  \n",
       "2   3.383302        1  \n",
       "3   9.781480        1  \n",
       "4   4.227702        1  \n",
       "5   4.668094        1  \n",
       "6   8.920987        1  \n",
       "\n",
       "[5 rows x 22 columns]"
      ]
     },
     "execution_count": 137,
     "metadata": {},
     "output_type": "execute_result"
    }
   ],
   "source": [
    "data=data.dropna()\n",
    "data.head()"
   ]
  },
  {
   "cell_type": "code",
   "execution_count": 138,
   "metadata": {},
   "outputs": [],
   "source": [
    "col=['open1','high1', 'low1', 'close1', 'adj_close1', 'volume1','variation1', 'open2', 'high2', 'low2', 'close2', 'adj_close2', 'volume2', 'variation2', 'open3', 'high3', 'low3', 'close3', 'adj_close3','volume3', 'variation3','Company']"
   ]
  },
  {
   "cell_type": "code",
   "execution_count": 139,
   "metadata": {},
   "outputs": [],
   "source": [
    "#new=pd.DataFrame(data,columns=col)\n",
    "data.columns = col"
   ]
  },
  {
   "cell_type": "code",
   "execution_count": 140,
   "metadata": {},
   "outputs": [
    {
     "data": {
      "text/html": [
       "<div>\n",
       "<style scoped>\n",
       "    .dataframe tbody tr th:only-of-type {\n",
       "        vertical-align: middle;\n",
       "    }\n",
       "\n",
       "    .dataframe tbody tr th {\n",
       "        vertical-align: top;\n",
       "    }\n",
       "\n",
       "    .dataframe thead th {\n",
       "        text-align: right;\n",
       "    }\n",
       "</style>\n",
       "<table border=\"1\" class=\"dataframe\">\n",
       "  <thead>\n",
       "    <tr style=\"text-align: right;\">\n",
       "      <th></th>\n",
       "      <th>open1</th>\n",
       "      <th>high1</th>\n",
       "      <th>low1</th>\n",
       "      <th>close1</th>\n",
       "      <th>adj_close1</th>\n",
       "      <th>volume1</th>\n",
       "      <th>variation1</th>\n",
       "      <th>open2</th>\n",
       "      <th>high2</th>\n",
       "      <th>low2</th>\n",
       "      <th>...</th>\n",
       "      <th>volume2</th>\n",
       "      <th>variation2</th>\n",
       "      <th>open3</th>\n",
       "      <th>high3</th>\n",
       "      <th>low3</th>\n",
       "      <th>close3</th>\n",
       "      <th>adj_close3</th>\n",
       "      <th>volume3</th>\n",
       "      <th>variation3</th>\n",
       "      <th>Company</th>\n",
       "    </tr>\n",
       "  </thead>\n",
       "  <tbody>\n",
       "    <tr>\n",
       "      <th>2</th>\n",
       "      <td>59.000000</td>\n",
       "      <td>59.000000</td>\n",
       "      <td>48.000000</td>\n",
       "      <td>49.049999</td>\n",
       "      <td>41.943699</td>\n",
       "      <td>33041772.0</td>\n",
       "      <td>22.426096</td>\n",
       "      <td>49.450001</td>\n",
       "      <td>49.849998</td>\n",
       "      <td>47.099998</td>\n",
       "      <td>...</td>\n",
       "      <td>10215112.0</td>\n",
       "      <td>5.791912</td>\n",
       "      <td>47.830002</td>\n",
       "      <td>48.130001</td>\n",
       "      <td>46.549999</td>\n",
       "      <td>46.700001</td>\n",
       "      <td>39.934158</td>\n",
       "      <td>6801556.0</td>\n",
       "      <td>3.383302</td>\n",
       "      <td>1</td>\n",
       "    </tr>\n",
       "    <tr>\n",
       "      <th>3</th>\n",
       "      <td>49.450001</td>\n",
       "      <td>49.849998</td>\n",
       "      <td>47.099998</td>\n",
       "      <td>47.480000</td>\n",
       "      <td>40.601158</td>\n",
       "      <td>10215112.0</td>\n",
       "      <td>5.791912</td>\n",
       "      <td>47.830002</td>\n",
       "      <td>48.130001</td>\n",
       "      <td>46.549999</td>\n",
       "      <td>...</td>\n",
       "      <td>6801556.0</td>\n",
       "      <td>3.383302</td>\n",
       "      <td>46.700001</td>\n",
       "      <td>50.880001</td>\n",
       "      <td>46.180000</td>\n",
       "      <td>48.049999</td>\n",
       "      <td>41.088577</td>\n",
       "      <td>18723616.0</td>\n",
       "      <td>9.781480</td>\n",
       "      <td>1</td>\n",
       "    </tr>\n",
       "    <tr>\n",
       "      <th>4</th>\n",
       "      <td>47.830002</td>\n",
       "      <td>48.130001</td>\n",
       "      <td>46.549999</td>\n",
       "      <td>46.700001</td>\n",
       "      <td>39.934158</td>\n",
       "      <td>6801556.0</td>\n",
       "      <td>3.383302</td>\n",
       "      <td>46.700001</td>\n",
       "      <td>50.880001</td>\n",
       "      <td>46.180000</td>\n",
       "      <td>...</td>\n",
       "      <td>18723616.0</td>\n",
       "      <td>9.781480</td>\n",
       "      <td>48.000000</td>\n",
       "      <td>49.349998</td>\n",
       "      <td>47.330002</td>\n",
       "      <td>47.779999</td>\n",
       "      <td>40.857693</td>\n",
       "      <td>7412076.0</td>\n",
       "      <td>4.227702</td>\n",
       "      <td>1</td>\n",
       "    </tr>\n",
       "    <tr>\n",
       "      <th>5</th>\n",
       "      <td>46.700001</td>\n",
       "      <td>50.880001</td>\n",
       "      <td>46.180000</td>\n",
       "      <td>48.049999</td>\n",
       "      <td>41.088577</td>\n",
       "      <td>18723616.0</td>\n",
       "      <td>9.781480</td>\n",
       "      <td>48.000000</td>\n",
       "      <td>49.349998</td>\n",
       "      <td>47.330002</td>\n",
       "      <td>...</td>\n",
       "      <td>7412076.0</td>\n",
       "      <td>4.227702</td>\n",
       "      <td>47.930000</td>\n",
       "      <td>48.430000</td>\n",
       "      <td>46.250000</td>\n",
       "      <td>46.700001</td>\n",
       "      <td>39.934158</td>\n",
       "      <td>4424740.0</td>\n",
       "      <td>4.668094</td>\n",
       "      <td>1</td>\n",
       "    </tr>\n",
       "    <tr>\n",
       "      <th>6</th>\n",
       "      <td>48.000000</td>\n",
       "      <td>49.349998</td>\n",
       "      <td>47.330002</td>\n",
       "      <td>47.779999</td>\n",
       "      <td>40.857693</td>\n",
       "      <td>7412076.0</td>\n",
       "      <td>4.227702</td>\n",
       "      <td>47.930000</td>\n",
       "      <td>48.430000</td>\n",
       "      <td>46.250000</td>\n",
       "      <td>...</td>\n",
       "      <td>4424740.0</td>\n",
       "      <td>4.668094</td>\n",
       "      <td>51.000000</td>\n",
       "      <td>51.000000</td>\n",
       "      <td>46.799999</td>\n",
       "      <td>47.080002</td>\n",
       "      <td>40.259109</td>\n",
       "      <td>3559280.0</td>\n",
       "      <td>8.920987</td>\n",
       "      <td>1</td>\n",
       "    </tr>\n",
       "  </tbody>\n",
       "</table>\n",
       "<p>5 rows × 22 columns</p>\n",
       "</div>"
      ],
      "text/plain": [
       "       open1      high1       low1     close1  adj_close1     volume1  \\\n",
       "2  59.000000  59.000000  48.000000  49.049999   41.943699  33041772.0   \n",
       "3  49.450001  49.849998  47.099998  47.480000   40.601158  10215112.0   \n",
       "4  47.830002  48.130001  46.549999  46.700001   39.934158   6801556.0   \n",
       "5  46.700001  50.880001  46.180000  48.049999   41.088577  18723616.0   \n",
       "6  48.000000  49.349998  47.330002  47.779999   40.857693   7412076.0   \n",
       "\n",
       "   variation1      open2      high2       low2   ...        volume2  \\\n",
       "2   22.426096  49.450001  49.849998  47.099998   ...     10215112.0   \n",
       "3    5.791912  47.830002  48.130001  46.549999   ...      6801556.0   \n",
       "4    3.383302  46.700001  50.880001  46.180000   ...     18723616.0   \n",
       "5    9.781480  48.000000  49.349998  47.330002   ...      7412076.0   \n",
       "6    4.227702  47.930000  48.430000  46.250000   ...      4424740.0   \n",
       "\n",
       "   variation2      open3      high3       low3     close3  adj_close3  \\\n",
       "2    5.791912  47.830002  48.130001  46.549999  46.700001   39.934158   \n",
       "3    3.383302  46.700001  50.880001  46.180000  48.049999   41.088577   \n",
       "4    9.781480  48.000000  49.349998  47.330002  47.779999   40.857693   \n",
       "5    4.227702  47.930000  48.430000  46.250000  46.700001   39.934158   \n",
       "6    4.668094  51.000000  51.000000  46.799999  47.080002   40.259109   \n",
       "\n",
       "      volume3  variation3  Company  \n",
       "2   6801556.0    3.383302        1  \n",
       "3  18723616.0    9.781480        1  \n",
       "4   7412076.0    4.227702        1  \n",
       "5   4424740.0    4.668094        1  \n",
       "6   3559280.0    8.920987        1  \n",
       "\n",
       "[5 rows x 22 columns]"
      ]
     },
     "execution_count": 140,
     "metadata": {},
     "output_type": "execute_result"
    }
   ],
   "source": [
    "data.head()"
   ]
  },
  {
   "cell_type": "code",
   "execution_count": 141,
   "metadata": {},
   "outputs": [
    {
     "data": {
      "text/html": [
       "<div>\n",
       "<style scoped>\n",
       "    .dataframe tbody tr th:only-of-type {\n",
       "        vertical-align: middle;\n",
       "    }\n",
       "\n",
       "    .dataframe tbody tr th {\n",
       "        vertical-align: top;\n",
       "    }\n",
       "\n",
       "    .dataframe thead th {\n",
       "        text-align: right;\n",
       "    }\n",
       "</style>\n",
       "<table border=\"1\" class=\"dataframe\">\n",
       "  <thead>\n",
       "    <tr style=\"text-align: right;\">\n",
       "      <th></th>\n",
       "      <th>open1</th>\n",
       "      <th>high1</th>\n",
       "      <th>low1</th>\n",
       "      <th>close1</th>\n",
       "      <th>adj_close1</th>\n",
       "      <th>volume1</th>\n",
       "      <th>variation1</th>\n",
       "      <th>open2</th>\n",
       "      <th>high2</th>\n",
       "      <th>low2</th>\n",
       "      <th>...</th>\n",
       "      <th>variation2</th>\n",
       "      <th>open3</th>\n",
       "      <th>high3</th>\n",
       "      <th>low3</th>\n",
       "      <th>close3</th>\n",
       "      <th>adj_close3</th>\n",
       "      <th>volume3</th>\n",
       "      <th>variation3</th>\n",
       "      <th>Company</th>\n",
       "      <th>up_variation</th>\n",
       "    </tr>\n",
       "  </thead>\n",
       "  <tbody>\n",
       "    <tr>\n",
       "      <th>2</th>\n",
       "      <td>59.000000</td>\n",
       "      <td>59.000000</td>\n",
       "      <td>48.000000</td>\n",
       "      <td>49.049999</td>\n",
       "      <td>41.943699</td>\n",
       "      <td>33041772.0</td>\n",
       "      <td>22.426096</td>\n",
       "      <td>49.450001</td>\n",
       "      <td>49.849998</td>\n",
       "      <td>47.099998</td>\n",
       "      <td>...</td>\n",
       "      <td>5.791912</td>\n",
       "      <td>47.830002</td>\n",
       "      <td>48.130001</td>\n",
       "      <td>46.549999</td>\n",
       "      <td>46.700001</td>\n",
       "      <td>39.934158</td>\n",
       "      <td>6801556.0</td>\n",
       "      <td>3.383302</td>\n",
       "      <td>1</td>\n",
       "      <td>19.042794</td>\n",
       "    </tr>\n",
       "    <tr>\n",
       "      <th>3</th>\n",
       "      <td>49.450001</td>\n",
       "      <td>49.849998</td>\n",
       "      <td>47.099998</td>\n",
       "      <td>47.480000</td>\n",
       "      <td>40.601158</td>\n",
       "      <td>10215112.0</td>\n",
       "      <td>5.791912</td>\n",
       "      <td>47.830002</td>\n",
       "      <td>48.130001</td>\n",
       "      <td>46.549999</td>\n",
       "      <td>...</td>\n",
       "      <td>3.383302</td>\n",
       "      <td>46.700001</td>\n",
       "      <td>50.880001</td>\n",
       "      <td>46.180000</td>\n",
       "      <td>48.049999</td>\n",
       "      <td>41.088577</td>\n",
       "      <td>18723616.0</td>\n",
       "      <td>9.781480</td>\n",
       "      <td>1</td>\n",
       "      <td>-3.989568</td>\n",
       "    </tr>\n",
       "    <tr>\n",
       "      <th>4</th>\n",
       "      <td>47.830002</td>\n",
       "      <td>48.130001</td>\n",
       "      <td>46.549999</td>\n",
       "      <td>46.700001</td>\n",
       "      <td>39.934158</td>\n",
       "      <td>6801556.0</td>\n",
       "      <td>3.383302</td>\n",
       "      <td>46.700001</td>\n",
       "      <td>50.880001</td>\n",
       "      <td>46.180000</td>\n",
       "      <td>...</td>\n",
       "      <td>9.781480</td>\n",
       "      <td>48.000000</td>\n",
       "      <td>49.349998</td>\n",
       "      <td>47.330002</td>\n",
       "      <td>47.779999</td>\n",
       "      <td>40.857693</td>\n",
       "      <td>7412076.0</td>\n",
       "      <td>4.227702</td>\n",
       "      <td>1</td>\n",
       "      <td>-0.844400</td>\n",
       "    </tr>\n",
       "    <tr>\n",
       "      <th>5</th>\n",
       "      <td>46.700001</td>\n",
       "      <td>50.880001</td>\n",
       "      <td>46.180000</td>\n",
       "      <td>48.049999</td>\n",
       "      <td>41.088577</td>\n",
       "      <td>18723616.0</td>\n",
       "      <td>9.781480</td>\n",
       "      <td>48.000000</td>\n",
       "      <td>49.349998</td>\n",
       "      <td>47.330002</td>\n",
       "      <td>...</td>\n",
       "      <td>4.227702</td>\n",
       "      <td>47.930000</td>\n",
       "      <td>48.430000</td>\n",
       "      <td>46.250000</td>\n",
       "      <td>46.700001</td>\n",
       "      <td>39.934158</td>\n",
       "      <td>4424740.0</td>\n",
       "      <td>4.668094</td>\n",
       "      <td>1</td>\n",
       "      <td>5.113386</td>\n",
       "    </tr>\n",
       "    <tr>\n",
       "      <th>6</th>\n",
       "      <td>48.000000</td>\n",
       "      <td>49.349998</td>\n",
       "      <td>47.330002</td>\n",
       "      <td>47.779999</td>\n",
       "      <td>40.857693</td>\n",
       "      <td>7412076.0</td>\n",
       "      <td>4.227702</td>\n",
       "      <td>47.930000</td>\n",
       "      <td>48.430000</td>\n",
       "      <td>46.250000</td>\n",
       "      <td>...</td>\n",
       "      <td>4.668094</td>\n",
       "      <td>51.000000</td>\n",
       "      <td>51.000000</td>\n",
       "      <td>46.799999</td>\n",
       "      <td>47.080002</td>\n",
       "      <td>40.259109</td>\n",
       "      <td>3559280.0</td>\n",
       "      <td>8.920987</td>\n",
       "      <td>1</td>\n",
       "      <td>-4.693285</td>\n",
       "    </tr>\n",
       "  </tbody>\n",
       "</table>\n",
       "<p>5 rows × 23 columns</p>\n",
       "</div>"
      ],
      "text/plain": [
       "       open1      high1       low1     close1  adj_close1     volume1  \\\n",
       "2  59.000000  59.000000  48.000000  49.049999   41.943699  33041772.0   \n",
       "3  49.450001  49.849998  47.099998  47.480000   40.601158  10215112.0   \n",
       "4  47.830002  48.130001  46.549999  46.700001   39.934158   6801556.0   \n",
       "5  46.700001  50.880001  46.180000  48.049999   41.088577  18723616.0   \n",
       "6  48.000000  49.349998  47.330002  47.779999   40.857693   7412076.0   \n",
       "\n",
       "   variation1      open2      high2       low2      ...       variation2  \\\n",
       "2   22.426096  49.450001  49.849998  47.099998      ...         5.791912   \n",
       "3    5.791912  47.830002  48.130001  46.549999      ...         3.383302   \n",
       "4    3.383302  46.700001  50.880001  46.180000      ...         9.781480   \n",
       "5    9.781480  48.000000  49.349998  47.330002      ...         4.227702   \n",
       "6    4.227702  47.930000  48.430000  46.250000      ...         4.668094   \n",
       "\n",
       "       open3      high3       low3     close3  adj_close3     volume3  \\\n",
       "2  47.830002  48.130001  46.549999  46.700001   39.934158   6801556.0   \n",
       "3  46.700001  50.880001  46.180000  48.049999   41.088577  18723616.0   \n",
       "4  48.000000  49.349998  47.330002  47.779999   40.857693   7412076.0   \n",
       "5  47.930000  48.430000  46.250000  46.700001   39.934158   4424740.0   \n",
       "6  51.000000  51.000000  46.799999  47.080002   40.259109   3559280.0   \n",
       "\n",
       "   variation3  Company  up_variation  \n",
       "2    3.383302        1     19.042794  \n",
       "3    9.781480        1     -3.989568  \n",
       "4    4.227702        1     -0.844400  \n",
       "5    4.668094        1      5.113386  \n",
       "6    8.920987        1     -4.693285  \n",
       "\n",
       "[5 rows x 23 columns]"
      ]
     },
     "execution_count": 141,
     "metadata": {},
     "output_type": "execute_result"
    }
   ],
   "source": [
    "dd1=data[:data.shape[0]-1]\n",
    "list1=list(dd1['variation3'])\n",
    "dd2=data[0:]\n",
    "list2=list(dd2['variation1'])\n",
    "L=list(map(lambda x,y :y-x,list1,list2))\n",
    "L.append(0)\n",
    "data['up_variation']=L\n",
    "data.head()"
   ]
  },
  {
   "cell_type": "code",
   "execution_count": 142,
   "metadata": {},
   "outputs": [
    {
     "name": "stdout",
     "output_type": "stream",
     "text": [
      "(217326, 23)\n"
     ]
    },
    {
     "data": {
      "text/plain": [
       "(217328, 9)"
      ]
     },
     "execution_count": 142,
     "metadata": {},
     "output_type": "execute_result"
    }
   ],
   "source": [
    "print(data.shape)\n",
    "df.shape"
   ]
  },
  {
   "cell_type": "code",
   "execution_count": 143,
   "metadata": {},
   "outputs": [
    {
     "data": {
      "text/html": [
       "<div>\n",
       "<style scoped>\n",
       "    .dataframe tbody tr th:only-of-type {\n",
       "        vertical-align: middle;\n",
       "    }\n",
       "\n",
       "    .dataframe tbody tr th {\n",
       "        vertical-align: top;\n",
       "    }\n",
       "\n",
       "    .dataframe thead th {\n",
       "        text-align: right;\n",
       "    }\n",
       "</style>\n",
       "<table border=\"1\" class=\"dataframe\">\n",
       "  <thead>\n",
       "    <tr style=\"text-align: right;\">\n",
       "      <th></th>\n",
       "      <th>Company</th>\n",
       "      <th>open1</th>\n",
       "      <th>high1</th>\n",
       "      <th>low1</th>\n",
       "      <th>close1</th>\n",
       "      <th>adj_close1</th>\n",
       "      <th>volume1</th>\n",
       "      <th>variation1</th>\n",
       "      <th>open2</th>\n",
       "      <th>high2</th>\n",
       "      <th>...</th>\n",
       "      <th>volume2</th>\n",
       "      <th>variation2</th>\n",
       "      <th>open3</th>\n",
       "      <th>high3</th>\n",
       "      <th>low3</th>\n",
       "      <th>close3</th>\n",
       "      <th>adj_close3</th>\n",
       "      <th>volume3</th>\n",
       "      <th>variation3</th>\n",
       "      <th>up_variation</th>\n",
       "    </tr>\n",
       "  </thead>\n",
       "  <tbody>\n",
       "    <tr>\n",
       "      <th>0</th>\n",
       "      <td>1</td>\n",
       "      <td>45.410923</td>\n",
       "      <td>46.467783</td>\n",
       "      <td>44.214031</td>\n",
       "      <td>45.174339</td>\n",
       "      <td>41.687590</td>\n",
       "      <td>2.011312e+06</td>\n",
       "      <td>5.335413</td>\n",
       "      <td>45.394161</td>\n",
       "      <td>46.451116</td>\n",
       "      <td>...</td>\n",
       "      <td>2.003490e+06</td>\n",
       "      <td>5.331553</td>\n",
       "      <td>45.380349</td>\n",
       "      <td>46.437209</td>\n",
       "      <td>44.187501</td>\n",
       "      <td>45.147355</td>\n",
       "      <td>41.665041</td>\n",
       "      <td>2.002023e+06</td>\n",
       "      <td>5.331981</td>\n",
       "      <td>3.431253e-03</td>\n",
       "    </tr>\n",
       "    <tr>\n",
       "      <th>1</th>\n",
       "      <td>2</td>\n",
       "      <td>4085.483374</td>\n",
       "      <td>4150.457280</td>\n",
       "      <td>4016.645013</td>\n",
       "      <td>4076.068288</td>\n",
       "      <td>4076.068288</td>\n",
       "      <td>5.231095e+03</td>\n",
       "      <td>3.592593</td>\n",
       "      <td>4090.887634</td>\n",
       "      <td>4155.894615</td>\n",
       "      <td>...</td>\n",
       "      <td>3.061835e+03</td>\n",
       "      <td>3.590818</td>\n",
       "      <td>4096.195974</td>\n",
       "      <td>4161.262162</td>\n",
       "      <td>4027.010373</td>\n",
       "      <td>4086.509560</td>\n",
       "      <td>4086.509560</td>\n",
       "      <td>1.614830e+03</td>\n",
       "      <td>3.590273</td>\n",
       "      <td>2.320172e-03</td>\n",
       "    </tr>\n",
       "    <tr>\n",
       "      <th>2</th>\n",
       "      <td>3</td>\n",
       "      <td>49.797253</td>\n",
       "      <td>50.761718</td>\n",
       "      <td>48.348187</td>\n",
       "      <td>49.137761</td>\n",
       "      <td>47.935857</td>\n",
       "      <td>1.929875e+05</td>\n",
       "      <td>5.509830</td>\n",
       "      <td>40.754464</td>\n",
       "      <td>41.664151</td>\n",
       "      <td>...</td>\n",
       "      <td>1.930927e+05</td>\n",
       "      <td>5.511735</td>\n",
       "      <td>31.872144</td>\n",
       "      <td>32.682504</td>\n",
       "      <td>31.003551</td>\n",
       "      <td>31.666388</td>\n",
       "      <td>30.464483</td>\n",
       "      <td>1.931262e+05</td>\n",
       "      <td>5.511877</td>\n",
       "      <td>-2.047364e-03</td>\n",
       "    </tr>\n",
       "    <tr>\n",
       "      <th>3</th>\n",
       "      <td>4</td>\n",
       "      <td>31.872144</td>\n",
       "      <td>32.682504</td>\n",
       "      <td>31.003551</td>\n",
       "      <td>31.666388</td>\n",
       "      <td>30.464483</td>\n",
       "      <td>1.931262e+05</td>\n",
       "      <td>5.511877</td>\n",
       "      <td>31.872144</td>\n",
       "      <td>32.682504</td>\n",
       "      <td>...</td>\n",
       "      <td>1.931262e+05</td>\n",
       "      <td>5.511877</td>\n",
       "      <td>31.872144</td>\n",
       "      <td>32.682504</td>\n",
       "      <td>31.003551</td>\n",
       "      <td>31.666388</td>\n",
       "      <td>30.464483</td>\n",
       "      <td>1.931262e+05</td>\n",
       "      <td>5.511877</td>\n",
       "      <td>9.259897e-18</td>\n",
       "    </tr>\n",
       "    <tr>\n",
       "      <th>4</th>\n",
       "      <td>5</td>\n",
       "      <td>566.955890</td>\n",
       "      <td>579.117570</td>\n",
       "      <td>553.221754</td>\n",
       "      <td>565.556257</td>\n",
       "      <td>502.551309</td>\n",
       "      <td>1.637063e+06</td>\n",
       "      <td>4.303785</td>\n",
       "      <td>567.045847</td>\n",
       "      <td>579.207861</td>\n",
       "      <td>...</td>\n",
       "      <td>1.637516e+06</td>\n",
       "      <td>4.303351</td>\n",
       "      <td>567.132955</td>\n",
       "      <td>579.297830</td>\n",
       "      <td>553.393286</td>\n",
       "      <td>565.732187</td>\n",
       "      <td>502.727239</td>\n",
       "      <td>1.638447e+06</td>\n",
       "      <td>4.303155</td>\n",
       "      <td>6.304382e-04</td>\n",
       "    </tr>\n",
       "  </tbody>\n",
       "</table>\n",
       "<p>5 rows × 23 columns</p>\n",
       "</div>"
      ],
      "text/plain": [
       "   Company        open1        high1         low1       close1   adj_close1  \\\n",
       "0        1    45.410923    46.467783    44.214031    45.174339    41.687590   \n",
       "1        2  4085.483374  4150.457280  4016.645013  4076.068288  4076.068288   \n",
       "2        3    49.797253    50.761718    48.348187    49.137761    47.935857   \n",
       "3        4    31.872144    32.682504    31.003551    31.666388    30.464483   \n",
       "4        5   566.955890   579.117570   553.221754   565.556257   502.551309   \n",
       "\n",
       "        volume1  variation1        open2        high2      ...       \\\n",
       "0  2.011312e+06    5.335413    45.394161    46.451116      ...        \n",
       "1  5.231095e+03    3.592593  4090.887634  4155.894615      ...        \n",
       "2  1.929875e+05    5.509830    40.754464    41.664151      ...        \n",
       "3  1.931262e+05    5.511877    31.872144    32.682504      ...        \n",
       "4  1.637063e+06    4.303785   567.045847   579.207861      ...        \n",
       "\n",
       "        volume2  variation2        open3        high3         low3  \\\n",
       "0  2.003490e+06    5.331553    45.380349    46.437209    44.187501   \n",
       "1  3.061835e+03    3.590818  4096.195974  4161.262162  4027.010373   \n",
       "2  1.930927e+05    5.511735    31.872144    32.682504    31.003551   \n",
       "3  1.931262e+05    5.511877    31.872144    32.682504    31.003551   \n",
       "4  1.637516e+06    4.303351   567.132955   579.297830   553.393286   \n",
       "\n",
       "        close3   adj_close3       volume3  variation3  up_variation  \n",
       "0    45.147355    41.665041  2.002023e+06    5.331981  3.431253e-03  \n",
       "1  4086.509560  4086.509560  1.614830e+03    3.590273  2.320172e-03  \n",
       "2    31.666388    30.464483  1.931262e+05    5.511877 -2.047364e-03  \n",
       "3    31.666388    30.464483  1.931262e+05    5.511877  9.259897e-18  \n",
       "4   565.732187   502.727239  1.638447e+06    4.303155  6.304382e-04  \n",
       "\n",
       "[5 rows x 23 columns]"
      ]
     },
     "execution_count": 143,
     "metadata": {},
     "output_type": "execute_result"
    }
   ],
   "source": [
    "dd=data.groupby(['Company'], as_index=False).mean()\n",
    "dd.head()"
   ]
  },
  {
   "cell_type": "code",
   "execution_count": 144,
   "metadata": {},
   "outputs": [
    {
     "data": {
      "text/plain": [
       "[<matplotlib.lines.Line2D at 0x1d38101b400>]"
      ]
     },
     "execution_count": 144,
     "metadata": {},
     "output_type": "execute_result"
    },
    {
     "data": {
      "image/png": "[encoded data removed]",
      "text/plain": [
       "<Figure size 432x288 with 1 Axes>"
      ]
     },
     "metadata": {},
     "output_type": "display_data"
    }
   ],
   "source": [
    "plt.plot(dd['Company'],dd['up_variation'])"
   ]
  },
  {
   "cell_type": "markdown",
   "metadata": {},
   "source": [
    "in average , for all the copanies, the up variation is almost 0\n",
    "\n",
    "another cathegory is highly positive these companies are successfull \n",
    "\n",
    "and he last one is highly negative these companies are not"
   ]
  },
  {
   "cell_type": "code",
   "execution_count": 145,
   "metadata": {},
   "outputs": [
    {
     "data": {
      "image/png": "[encoded data removed]",
      "text/plain": [
       "<Figure size 1440x1440 with 2 Axes>"
      ]
     },
     "metadata": {},
     "output_type": "display_data"
    }
   ],
   "source": [
    "\n",
    "plot_correlation_map(data)\n"
   ]
  },
  {
   "cell_type": "markdown",
   "metadata": {},
   "source": [
    "drop adj_close //open3==close2 drop close2 // open2==close 1 drop close 1\n",
    "\n",
    "there is high correlation between volume and up_variation and volume i with volume j \n",
    "\n",
    "variation high correlation between high and low\n",
    "and negatively with close\n"
   ]
  },
  {
   "cell_type": "code",
   "execution_count": 146,
   "metadata": {},
   "outputs": [
    {
     "data": {
      "text/plain": [
       "[<matplotlib.lines.Line2D at 0x1d38dbde8d0>]"
      ]
     },
     "execution_count": 146,
     "metadata": {},
     "output_type": "execute_result"
    },
    {
     "data": {
      "image/png": "[encoded data removed]",
      "text/plain": [
       "<Figure size 432x288 with 1 Axes>"
      ]
     },
     "metadata": {},
     "output_type": "display_data"
    }
   ],
   "source": [
    "plt.plot(data['volume3'],data['up_variation'])"
   ]
  },
  {
   "cell_type": "code",
   "execution_count": 147,
   "metadata": {},
   "outputs": [
    {
     "data": {
      "text/plain": [
       "[<matplotlib.lines.Line2D at 0x1d38dbafbe0>]"
      ]
     },
     "execution_count": 147,
     "metadata": {},
     "output_type": "execute_result"
    },
    {
     "data": {
      "image/png": "[encoded data removed]",
      "text/plain": [
       "<Figure size 432x288 with 1 Axes>"
      ]
     },
     "metadata": {},
     "output_type": "display_data"
    }
   ],
   "source": [
    "plt.plot(data['volume1'],data['volume2'])"
   ]
  },
  {
   "cell_type": "markdown",
   "metadata": {},
   "source": [
    "the correlation between volume1 , volume2 is very week "
   ]
  },
  {
   "cell_type": "code",
   "execution_count": 148,
   "metadata": {},
   "outputs": [
    {
     "data": {
      "text/plain": [
       "[<matplotlib.lines.Line2D at 0x1d38dc677b8>]"
      ]
     },
     "execution_count": 148,
     "metadata": {},
     "output_type": "execute_result"
    },
    {
     "data": {
      "image/png": "[encoded data removed]",
      "text/plain": [
       "<Figure size 432x288 with 1 Axes>"
      ]
     },
     "metadata": {},
     "output_type": "display_data"
    }
   ],
   "source": [
    "plt.plot(data['high1'],data['low1'])"
   ]
  },
  {
   "cell_type": "code",
   "execution_count": 149,
   "metadata": {},
   "outputs": [
    {
     "data": {
      "text/plain": [
       "[<matplotlib.lines.Line2D at 0x1d38dccc160>]"
      ]
     },
     "execution_count": 149,
     "metadata": {},
     "output_type": "execute_result"
    },
    {
     "data": {
      "image/png": "[encoded data removed]",
      "text/plain": [
       "<Figure size 432x288 with 1 Axes>"
      ]
     },
     "metadata": {},
     "output_type": "display_data"
    }
   ],
   "source": [
    "plt.plot(data['high1'],data['high3'])"
   ]
  },
  {
   "cell_type": "markdown",
   "metadata": {},
   "source": [
    "their is important correlation between high1, and 3 "
   ]
  },
  {
   "cell_type": "code",
   "execution_count": 150,
   "metadata": {},
   "outputs": [
    {
     "data": {
      "text/plain": [
       "[<matplotlib.lines.Line2D at 0x1d38dd2cc18>]"
      ]
     },
     "execution_count": 150,
     "metadata": {},
     "output_type": "execute_result"
    },
    {
     "data": {
      "image/png": "[encoded data removed]",
      "text/plain": [
       "<Figure size 432x288 with 1 Axes>"
      ]
     },
     "metadata": {},
     "output_type": "display_data"
    }
   ],
   "source": [
    "plt.plot(data['variation1'])"
   ]
  },
  {
   "cell_type": "markdown",
   "metadata": {},
   "source": [
    "almost all the companies are not volatile with variation in [0. ,0.4]"
   ]
  },
  {
   "cell_type": "markdown",
   "metadata": {},
   "source": [
    "# cleaning DATA"
   ]
  },
  {
   "cell_type": "code",
   "execution_count": 151,
   "metadata": {},
   "outputs": [
    {
     "data": {
      "text/plain": [
       "Index(['open1', 'high1', 'low1', 'volume1', 'variation1', 'open2', 'high2',\n",
       "       'low2', 'volume2', 'variation2', 'open3', 'high3', 'low3', 'close3',\n",
       "       'volume3', 'variation3', 'Company', 'up_variation'],\n",
       "      dtype='object')"
      ]
     },
     "execution_count": 151,
     "metadata": {},
     "output_type": "execute_result"
    }
   ],
   "source": [
    "copyDATA=data.drop(['adj_close1','adj_close2','adj_close3','close2','close1'],axis=1)\n",
    "copyDATA.columns"
   ]
  },
  {
   "cell_type": "markdown",
   "metadata": {},
   "source": [
    "# Modeling"
   ]
  },
  {
   "cell_type": "code",
   "execution_count": 152,
   "metadata": {},
   "outputs": [],
   "source": [
    "#logistic reg \n",
    "y=['up_variation']\n",
    "X=[i for i in copyDATA if i not in y]\n",
    "#copyDATA['up_variation']=copyDATA['up_variation'].values.ravel()"
   ]
  },
  {
   "cell_type": "code",
   "execution_count": 154,
   "metadata": {},
   "outputs": [],
   "source": [
    "#knn.fit(X_train, np.ravel(y_train,order='C'))"
   ]
  },
  {
   "cell_type": "code",
   "execution_count": 156,
   "metadata": {},
   "outputs": [
    {
     "ename": "ValueError",
     "evalue": "Unknown label type: 'continuous'",
     "output_type": "error",
     "traceback": [
      "\u001b[1;31m---------------------------------------------------------------------------\u001b[0m",
      "\u001b[1;31mValueError\u001b[0m                                Traceback (most recent call last)",
      "\u001b[1;32m<ipython-input-156-2c2f00fe85a5>\u001b[0m in \u001b[0;36m<module>\u001b[1;34m()\u001b[0m\n\u001b[0;32m      5\u001b[0m \u001b[0mlogreg\u001b[0m \u001b[1;33m=\u001b[0m \u001b[0mLogisticRegression\u001b[0m\u001b[1;33m(\u001b[0m\u001b[1;33m)\u001b[0m\u001b[1;33m\u001b[0m\u001b[0m\n\u001b[0;32m      6\u001b[0m \u001b[0mrfe\u001b[0m \u001b[1;33m=\u001b[0m \u001b[0mRFE\u001b[0m\u001b[1;33m(\u001b[0m\u001b[0mlogreg\u001b[0m\u001b[1;33m,\u001b[0m\u001b[1;36m16\u001b[0m\u001b[1;33m)\u001b[0m\u001b[1;33m\u001b[0m\u001b[0m\n\u001b[1;32m----> 7\u001b[1;33m \u001b[0mrfe\u001b[0m \u001b[1;33m=\u001b[0m \u001b[0mrfe\u001b[0m\u001b[1;33m.\u001b[0m\u001b[0mfit\u001b[0m\u001b[1;33m(\u001b[0m\u001b[0mcopyDATA\u001b[0m\u001b[1;33m[\u001b[0m\u001b[0mX\u001b[0m\u001b[1;33m]\u001b[0m\u001b[1;33m,\u001b[0m\u001b[0mnp\u001b[0m\u001b[1;33m.\u001b[0m\u001b[0mravel\u001b[0m\u001b[1;33m(\u001b[0m\u001b[0mcopyDATA\u001b[0m\u001b[1;33m[\u001b[0m\u001b[0my\u001b[0m\u001b[1;33m]\u001b[0m\u001b[1;33m,\u001b[0m\u001b[0morder\u001b[0m\u001b[1;33m=\u001b[0m\u001b[1;34m'C'\u001b[0m\u001b[1;33m)\u001b[0m\u001b[1;33m)\u001b[0m\u001b[1;33m\u001b[0m\u001b[0m\n\u001b[0m\u001b[0;32m      8\u001b[0m \u001b[0mprint\u001b[0m\u001b[1;33m(\u001b[0m\u001b[0mrfe\u001b[0m\u001b[1;33m.\u001b[0m\u001b[0msupport_\u001b[0m\u001b[1;33m)\u001b[0m\u001b[1;33m\u001b[0m\u001b[0m\n\u001b[0;32m      9\u001b[0m \u001b[0mprint\u001b[0m\u001b[1;33m(\u001b[0m\u001b[0mrfe\u001b[0m\u001b[1;33m.\u001b[0m\u001b[0mranking_\u001b[0m\u001b[1;33m)\u001b[0m\u001b[1;33m\u001b[0m\u001b[0m\n",
      "\u001b[1;32mc:\\users\\rihab\\appdata\\local\\programs\\python\\python37\\lib\\site-packages\\sklearn\\feature_selection\\rfe.py\u001b[0m in \u001b[0;36mfit\u001b[1;34m(self, X, y)\u001b[0m\n\u001b[0;32m    132\u001b[0m             \u001b[0mThe\u001b[0m \u001b[0mtarget\u001b[0m \u001b[0mvalues\u001b[0m\u001b[1;33m.\u001b[0m\u001b[1;33m\u001b[0m\u001b[0m\n\u001b[0;32m    133\u001b[0m         \"\"\"\n\u001b[1;32m--> 134\u001b[1;33m         \u001b[1;32mreturn\u001b[0m \u001b[0mself\u001b[0m\u001b[1;33m.\u001b[0m\u001b[0m_fit\u001b[0m\u001b[1;33m(\u001b[0m\u001b[0mX\u001b[0m\u001b[1;33m,\u001b[0m \u001b[0my\u001b[0m\u001b[1;33m)\u001b[0m\u001b[1;33m\u001b[0m\u001b[0m\n\u001b[0m\u001b[0;32m    135\u001b[0m \u001b[1;33m\u001b[0m\u001b[0m\n\u001b[0;32m    136\u001b[0m     \u001b[1;32mdef\u001b[0m \u001b[0m_fit\u001b[0m\u001b[1;33m(\u001b[0m\u001b[0mself\u001b[0m\u001b[1;33m,\u001b[0m \u001b[0mX\u001b[0m\u001b[1;33m,\u001b[0m \u001b[0my\u001b[0m\u001b[1;33m,\u001b[0m \u001b[0mstep_score\u001b[0m\u001b[1;33m=\u001b[0m\u001b[1;32mNone\u001b[0m\u001b[1;33m)\u001b[0m\u001b[1;33m:\u001b[0m\u001b[1;33m\u001b[0m\u001b[0m\n",
      "\u001b[1;32mc:\\users\\rihab\\appdata\\local\\programs\\python\\python37\\lib\\site-packages\\sklearn\\feature_selection\\rfe.py\u001b[0m in \u001b[0;36m_fit\u001b[1;34m(self, X, y, step_score)\u001b[0m\n\u001b[0;32m    171\u001b[0m                 \u001b[0mprint\u001b[0m\u001b[1;33m(\u001b[0m\u001b[1;34m\"Fitting estimator with %d features.\"\u001b[0m \u001b[1;33m%\u001b[0m \u001b[0mnp\u001b[0m\u001b[1;33m.\u001b[0m\u001b[0msum\u001b[0m\u001b[1;33m(\u001b[0m\u001b[0msupport_\u001b[0m\u001b[1;33m)\u001b[0m\u001b[1;33m)\u001b[0m\u001b[1;33m\u001b[0m\u001b[0m\n\u001b[0;32m    172\u001b[0m \u001b[1;33m\u001b[0m\u001b[0m\n\u001b[1;32m--> 173\u001b[1;33m             \u001b[0mestimator\u001b[0m\u001b[1;33m.\u001b[0m\u001b[0mfit\u001b[0m\u001b[1;33m(\u001b[0m\u001b[0mX\u001b[0m\u001b[1;33m[\u001b[0m\u001b[1;33m:\u001b[0m\u001b[1;33m,\u001b[0m \u001b[0mfeatures\u001b[0m\u001b[1;33m]\u001b[0m\u001b[1;33m,\u001b[0m \u001b[0my\u001b[0m\u001b[1;33m)\u001b[0m\u001b[1;33m\u001b[0m\u001b[0m\n\u001b[0m\u001b[0;32m    174\u001b[0m \u001b[1;33m\u001b[0m\u001b[0m\n\u001b[0;32m    175\u001b[0m             \u001b[1;31m# Get coefs\u001b[0m\u001b[1;33m\u001b[0m\u001b[1;33m\u001b[0m\u001b[0m\n",
      "\u001b[1;32mc:\\users\\rihab\\appdata\\local\\programs\\python\\python37\\lib\\site-packages\\sklearn\\linear_model\\logistic.py\u001b[0m in \u001b[0;36mfit\u001b[1;34m(self, X, y, sample_weight)\u001b[0m\n\u001b[0;32m   1219\u001b[0m         X, y = check_X_y(X, y, accept_sparse='csr', dtype=_dtype,\n\u001b[0;32m   1220\u001b[0m                          order=\"C\")\n\u001b[1;32m-> 1221\u001b[1;33m         \u001b[0mcheck_classification_targets\u001b[0m\u001b[1;33m(\u001b[0m\u001b[0my\u001b[0m\u001b[1;33m)\u001b[0m\u001b[1;33m\u001b[0m\u001b[0m\n\u001b[0m\u001b[0;32m   1222\u001b[0m         \u001b[0mself\u001b[0m\u001b[1;33m.\u001b[0m\u001b[0mclasses_\u001b[0m \u001b[1;33m=\u001b[0m \u001b[0mnp\u001b[0m\u001b[1;33m.\u001b[0m\u001b[0munique\u001b[0m\u001b[1;33m(\u001b[0m\u001b[0my\u001b[0m\u001b[1;33m)\u001b[0m\u001b[1;33m\u001b[0m\u001b[0m\n\u001b[0;32m   1223\u001b[0m         \u001b[0mn_samples\u001b[0m\u001b[1;33m,\u001b[0m \u001b[0mn_features\u001b[0m \u001b[1;33m=\u001b[0m \u001b[0mX\u001b[0m\u001b[1;33m.\u001b[0m\u001b[0mshape\u001b[0m\u001b[1;33m\u001b[0m\u001b[0m\n",
      "\u001b[1;32mc:\\users\\rihab\\appdata\\local\\programs\\python\\python37\\lib\\site-packages\\sklearn\\utils\\multiclass.py\u001b[0m in \u001b[0;36mcheck_classification_targets\u001b[1;34m(y)\u001b[0m\n\u001b[0;32m    169\u001b[0m     if y_type not in ['binary', 'multiclass', 'multiclass-multioutput',\n\u001b[0;32m    170\u001b[0m                       'multilabel-indicator', 'multilabel-sequences']:\n\u001b[1;32m--> 171\u001b[1;33m         \u001b[1;32mraise\u001b[0m \u001b[0mValueError\u001b[0m\u001b[1;33m(\u001b[0m\u001b[1;34m\"Unknown label type: %r\"\u001b[0m \u001b[1;33m%\u001b[0m \u001b[0my_type\u001b[0m\u001b[1;33m)\u001b[0m\u001b[1;33m\u001b[0m\u001b[0m\n\u001b[0m\u001b[0;32m    172\u001b[0m \u001b[1;33m\u001b[0m\u001b[0m\n\u001b[0;32m    173\u001b[0m \u001b[1;33m\u001b[0m\u001b[0m\n",
      "\u001b[1;31mValueError\u001b[0m: Unknown label type: 'continuous'"
     ]
    }
   ],
   "source": [
    "from sklearn import datasets\n",
    "from sklearn.feature_selection import RFE\n",
    "from sklearn.linear_model import LogisticRegression\n",
    "\n",
    "logreg = LogisticRegression()\n",
    "rfe = RFE(logreg,16)\n",
    "rfe = rfe.fit(copyDATA[X],np.ravel(copyDATA[y],order='C'))\n",
    "print(rfe.support_)\n",
    "print(rfe.ranking_)"
   ]
  },
  {
   "cell_type": "code",
   "execution_count": null,
   "metadata": {},
   "outputs": [],
   "source": [
    "rank=rfe.ranking_\n",
    "my_list=list(copyDATA.columns)\n",
    "new_list=[]\n",
    "for i in range(len(rank)):\n",
    "    if (rank[i]==1):\n",
    "        new_list.append(my_list[i])\n"
   ]
  },
  {
   "cell_type": "code",
   "execution_count": null,
   "metadata": {},
   "outputs": [],
   "source": [
    "X=copyDATA[new_list]\n",
    "y=copyDATA['Perpetrator Sex']"
   ]
  },
  {
   "cell_type": "code",
   "execution_count": null,
   "metadata": {},
   "outputs": [],
   "source": [
    "import statsmodels.api as sm\n",
    "logit_model=sm.Logit(y,X)\n",
    "result=logit_model.fit()\n",
    "print(result.summary())"
   ]
  },
  {
   "cell_type": "code",
   "execution_count": null,
   "metadata": {},
   "outputs": [],
   "source": [
    "from sklearn.model_selection import train_test_split\n",
    "X_train, X_test, y_train, y_test = train_test_split(X, y, test_size=0.3, random_state=0)\n",
    "\n",
    "from sklearn.linear_model import LogisticRegression\n",
    "from sklearn import metrics\n",
    "\n",
    "logreg = LogisticRegression()\n",
    "logreg.fit(X_train, y_train)"
   ]
  },
  {
   "cell_type": "code",
   "execution_count": null,
   "metadata": {},
   "outputs": [],
   "source": [
    "y_pred = logreg.predict(X_test)\n",
    "print('Accuracy of logistic regression classifier on test set: {:.2f}'.format(logreg.score(X_test, y_test)))"
   ]
  },
  {
   "cell_type": "markdown",
   "metadata": {},
   "source": [
    "Linear regression "
   ]
  },
  {
   "cell_type": "code",
   "execution_count": null,
   "metadata": {},
   "outputs": [],
   "source": [
    "y=['up_variation']\n",
    "X=[i for i in copyDATA if i not in y]"
   ]
  },
  {
   "cell_type": "code",
   "execution_count": null,
   "metadata": {},
   "outputs": [],
   "source": [
    "\n",
    "model = LinearRegression(normalize=True)\n",
    "rfe = RFE(model,16)\n",
    "rfe = rfe.fit(copyDATA[X],copyDATA[y].values.ravel())\n",
    "print(rfe.support_)\n",
    "print(rfe.ranking_)\n"
   ]
  },
  {
   "cell_type": "code",
   "execution_count": null,
   "metadata": {},
   "outputs": [],
   "source": [
    "rank=rfe.ranking_\n",
    "my_list=list(copyDATA.columns)\n",
    "new_list=[]\n",
    "for i in range(len(rank)):\n",
    "    if (rank[i]==1):\n",
    "        new_list.append(my_list[i])"
   ]
  },
  {
   "cell_type": "code",
   "execution_count": null,
   "metadata": {},
   "outputs": [],
   "source": [
    "X=copyDATA[new_list]\n",
    "y=copyDATA['Perpetrator Sex']"
   ]
  },
  {
   "cell_type": "code",
   "execution_count": null,
   "metadata": {},
   "outputs": [],
   "source": [
    "X_train, X_test, y_train, y_test = train_test_split(X, y, test_size=0.3, random_state=0)"
   ]
  },
  {
   "cell_type": "code",
   "execution_count": null,
   "metadata": {},
   "outputs": [],
   "source": [
    "model.fit(X, y)\n"
   ]
  },
  {
   "cell_type": "code",
   "execution_count": null,
   "metadata": {},
   "outputs": [],
   "source": [
    "model.score(X,y)"
   ]
  }
 ],
 "metadata": {
  "kernelspec": {
   "display_name": "Python 3",
   "language": "python",
   "name": "python3"
  },
  "language_info": {
   "codemirror_mode": {
    "name": "ipython",
    "version": 3
   },
   "file_extension": ".py",
   "mimetype": "text/x-python",
   "name": "python",
   "nbconvert_exporter": "python",
   "pygments_lexer": "ipython3",
   "version": "3.7.0"
  }
 },
 "nbformat": 4,
 "nbformat_minor": 2
}
