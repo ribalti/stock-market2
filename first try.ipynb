{
 "cells": [
  {
   "cell_type": "code",
   "execution_count": 9,
   "metadata": {},
   "outputs": [],
   "source": [
    "import pandas as pd \n",
    "import numpy as np\n",
    "import matplotlib.pyplot as plt\n",
    "import seaborn as sns"
   ]
  },
  {
   "cell_type": "code",
   "execution_count": 10,
   "metadata": {},
   "outputs": [],
   "source": [
    "df1=pd.read_csv('C:/Users/Rihab/Documents/IA/product/HISTORICAL_DATA/3IINFOTECH_data.csv')\n",
    "df1['Companie']=1\n",
    "df2=pd.read_csv('C:/Users/Rihab/Documents/IA/product/HISTORICAL_DATA/3MINDIA_data.csv')\n",
    "df2['Companie']=2\n",
    "df3=pd.read_csv('C:/Users/Rihab/Documents/IA/product/HISTORICAL_DATA/20MICRONS_data.csv')\n",
    "df3['Companie']=3\n",
    "df4=pd.read_csv('C:/Users/Rihab/Documents/IA/product/HISTORICAL_DATA/20MICRONS_data.csv')\n",
    "df4['Companie']=4\n",
    "df5=pd.read_csv('C:/Users/Rihab/Documents/IA/product/HISTORICAL_DATA/RELINFRA_data.csv')\n",
    "df5['Companie']=5\n",
    "df6=pd.read_csv('C:/Users/Rihab/Documents/IA/product/HISTORICAL_DATA/HINDUNILVR_data.csv')\n",
    "df6['Companie']=6\n",
    "df7=pd.read_csv('C:/Users/Rihab/Documents/IA/product/HISTORICAL_DATA/EICHERMOT_data.csv')\n",
    "df7['Companie']=7\n",
    "df8=pd.read_csv('C:/Users/Rihab/Documents/IA/product/HISTORICAL_DATA/HDFCBANK_data.csv')\n",
    "df8['Companie']=8\n",
    "df9=pd.read_csv('C:/Users/Rihab/Documents/IA/product/HISTORICAL_DATA/HDFCBANK_data.csv')\n",
    "df9['Companie']=9\n",
    "df10=pd.read_csv('C:/Users/Rihab/Documents/IA/product/HISTORICAL_DATA/HDFCBANK_data.csv')\n",
    "df10['Companie']=10\n",
    "df11=pd.read_csv('C:/Users/Rihab/Documents/IA/product/HISTORICAL_DATA/HDFCBANK_data.csv')\n",
    "df11['Companie']=11\n",
    "df12=pd.read_csv('C:/Users/Rihab/Documents/IA/product/HISTORICAL_DATA/WIPRO_data.csv')\n",
    "df12['Companie']=12\n",
    "df13=pd.read_csv('C:/Users/Rihab/Documents/IA/product/HISTORICAL_DATA/SIEMENS_data.csv')\n",
    "df13['Companie']=13\n",
    "df14=pd.read_csv('C:/Users/Rihab/Documents/IA/product/HISTORICAL_DATA/CENTURYTEX_data.csv')\n",
    "df14['Companie']=14\n",
    "df15=pd.read_csv('C:/Users/Rihab/Documents/IA/product/HISTORICAL_DATA/SBIN_data.csv')\n",
    "df15['Companie']=15\n",
    "df16=pd.read_csv('C:/Users/Rihab/Documents/IA/product/HISTORICAL_DATA/CIPLA_data.csv')\n",
    "df16['Companie']=16\n",
    "df17=pd.read_csv('C:/Users/Rihab/Documents/IA/product/HISTORICAL_DATA/TATAMOTORS_data.csv')\n",
    "df17['Companie']=17\n",
    "df18=pd.read_csv('C:/Users/Rihab/Documents/IA/product/HISTORICAL_DATA/HINDALCO_data.csv')\n",
    "df18['Companie']=18\n",
    "df19=pd.read_csv('C:/Users/Rihab/Documents/IA/product/HISTORICAL_DATA/TATAMOTORS_data.csv')\n",
    "df19['Companie']=19\n",
    "df20=pd.read_csv('C:/Users/Rihab/Documents/IA/product/HISTORICAL_DATA/BHEL_data.csv')\n",
    "df20['Companie']=20\n",
    "df21=pd.read_csv('C:/Users/Rihab/Documents/IA/product/HISTORICAL_DATA/TATAMOTORS_data.csv')\n",
    "df21['Companie']=21\n",
    "df22=pd.read_csv('C:/Users/Rihab/Documents/IA/product/HISTORICAL_DATA/M&M_data.csv')\n",
    "df22['Companie']=22\n",
    "df23=pd.read_csv('C:/Users/Rihab/Documents/IA/product/HISTORICAL_DATA/TATACHEM_data.csv')\n",
    "df23['Companie']=23\n",
    "df24=pd.read_csv('C:/Users/Rihab/Documents/IA/product/HISTORICAL_DATA/RAYMOND_data.csv')\n",
    "df24['Companie']=24\n",
    "df25=pd.read_csv('C:/Users/Rihab/Documents/IA/product/HISTORICAL_DATA/RAYMOND_data.csv')\n",
    "df25['Companie']=25\n",
    "df26=pd.read_csv('C:/Users/Rihab/Documents/IA/product/HISTORICAL_DATA/BHEL_data.csv')\n",
    "df26['Companie']=26\n",
    "df27=pd.read_csv('C:/Users/Rihab/Documents/IA/product/HISTORICAL_DATA/TATAGLOBAL_data.csv')\n",
    "df27['Companie']=27\n",
    "df28=pd.read_csv('C:/Users/Rihab/Documents/IA/product/HISTORICAL_DATA/GAIL_data.csv')\n",
    "df28['Companie']=28\n",
    "df29=pd.read_csv('C:/Users/Rihab/Documents/IA/product/HISTORICAL_DATA/JINDALSTEL_data.csv')\n",
    "df29['Companie']=29\n",
    "df30=pd.read_csv('C:/Users/Rihab/Documents/IA/product/HISTORICAL_DATA/ESCORTS_data.csv')\n",
    "df30['Companie']=30\n",
    "df31=pd.read_csv('C:/Users/Rihab/Documents/IA/product/HISTORICAL_DATA/INDIACEM_data.csv')\n",
    "df31['Companie']=31\n",
    "df32=pd.read_csv('C:/Users/Rihab/Documents/IA/product/HISTORICAL_DATA/AXISBANK_data.csv')\n",
    "df32['Companie']=32\n",
    "df33=pd.read_csv('C:/Users/Rihab/Documents/IA/product/HISTORICAL_DATA/MTNL_data.csv')\n",
    "df33['Companie']=33\n",
    "df34=pd.read_csv('C:/Users/Rihab/Documents/IA/product/HISTORICAL_DATA/RIIL_data.csv')\n",
    "df34['Companie']=34\n",
    "df35=pd.read_csv('C:/Users/Rihab/Documents/IA/product/HISTORICAL_DATA/BHARATFORG_data.csv')\n",
    "df35['Companie']=35\n",
    "df36=pd.read_csv('C:/Users/Rihab/Documents/IA/product/HISTORICAL_DATA/SUNPHARMA_data.csv')\n",
    "df36['Companie']=36\n",
    "df37=pd.read_csv('C:/Users/Rihab/Documents/IA/product/HISTORICAL_DATA/MOSERBAER_data.csv')\n",
    "df37['Companie']=37\n",
    "df38=pd.read_csv('C:/Users/Rihab/Documents/IA/product/HISTORICAL_DATA/NILKAMAL_data.csv')\n",
    "df38['Companie']=38\n",
    "df39=pd.read_csv('C:/Users/Rihab/Documents/IA/product/HISTORICAL_DATA/TITAN_data.csv')\n",
    "df39['Companie']=39\n",
    "df40=pd.read_csv('C:/Users/Rihab/Documents/IA/product/HISTORICAL_DATA/TATAGLOBAL_data.csv')\n",
    "df40['Companie']=40\n",
    "df41=pd.read_csv('C:/Users/Rihab/Documents/IA/product/HISTORICAL_DATA/TATASPONGE_data.csv')\n",
    "df41['Companie']=41\n",
    "df42=pd.read_csv('C:/Users/Rihab/Documents/IA/product/HISTORICAL_DATA/SAIL_data.csv')\n",
    "df42['Companie']=42\n",
    "df43=pd.read_csv('C:/Users/Rihab/Documents/IA/product/HISTORICAL_DATA/KESORAMIND_data.csv')\n",
    "df43['Companie']=43\n",
    "df44=pd.read_csv('C:/Users/Rihab/Documents/IA/product/HISTORICAL_DATA/HINDOILEXP_data.csv')\n",
    "df44['Companie']=44\n",
    "df45=pd.read_csv('C:/Users/Rihab/Documents/IA/product/HISTORICAL_DATA/DEEPAKFERT_data.csv')\n",
    "df45['Companie']=45\n",
    "df46=pd.read_csv('C:/Users/Rihab/Documents/IA/product/HISTORICAL_DATA/TATAPOWER_data.csv')\n",
    "df46['Companie']=46\n",
    "df47=pd.read_csv('C:/Users/Rihab/Documents/IA/product/HISTORICAL_DATA/ENGINERSIN_data.csv')\n",
    "df47['Companie']=47\n",
    "df48=pd.read_csv('C:/Users/Rihab/Documents/IA/product/HISTORICAL_DATA/EIHOTEL_data.csv')\n",
    "df48['Companie']=48\n",
    "df49=pd.read_csv('C:/Users/Rihab/Documents/IA/product/HISTORICAL_DATA/BOMDYEING_data.csv')\n",
    "df49['Companie']=49\n",
    "df50=pd.read_csv('C:/Users/Rihab/Documents/IA/product/HISTORICAL_DATA/TATAINVEST_data.csv')\n",
    "df50['Companie']=50\n"
   ]
  },
  {
   "cell_type": "code",
   "execution_count": 11,
   "metadata": {},
   "outputs": [],
   "source": [
    "frames = [df1, df2, df3,df4,df5,df6,df7,df8,df9,df10,df11,df12,df13,df14,df15,df16,df17,df18,df19,df20,df21,df22,df23,df24,df25,df26,df27,df28,df29,df30,df31,df32,df33,df34,df35,df36,df37,df38,df39,df40,df41,df42,df43,df44,df45,df46,df47,df48,df49,df50]\n",
    "df = pd.concat(frames)\n",
    "df=df.dropna()\n",
    "\n"
   ]
  },
  {
   "cell_type": "markdown",
   "metadata": {},
   "source": [
    "# DATA Understanding"
   ]
  },
  {
   "cell_type": "markdown",
   "metadata": {},
   "source": [
    "Date\n",
    "\n",
    "open  The Price at which the stock opened for at the start of the trading day\n",
    "\n",
    "high  The highest price reached by the stock during the trading session\n",
    "\n",
    "low   The lowest price reached by the stock during the trading session\n",
    "\n",
    "close The Price at which the stock closed at the the end of the trading day\n",
    "\n",
    "adj_close An adjusted closing price is a stock's closing price on any given day of trading that has been amended to include any distributions and corporate actions that occurred at any time before the next day's open.\n",
    "\n",
    "volume The number of shares traded in a day including both sold and bought"
   ]
  },
  {
   "cell_type": "code",
   "execution_count": 12,
   "metadata": {},
   "outputs": [
    {
     "data": {
      "text/html": [
       "<div>\n",
       "<style scoped>\n",
       "    .dataframe tbody tr th:only-of-type {\n",
       "        vertical-align: middle;\n",
       "    }\n",
       "\n",
       "    .dataframe tbody tr th {\n",
       "        vertical-align: top;\n",
       "    }\n",
       "\n",
       "    .dataframe thead th {\n",
       "        text-align: right;\n",
       "    }\n",
       "</style>\n",
       "<table border=\"1\" class=\"dataframe\">\n",
       "  <thead>\n",
       "    <tr style=\"text-align: right;\">\n",
       "      <th></th>\n",
       "      <th>Date</th>\n",
       "      <th>open</th>\n",
       "      <th>high</th>\n",
       "      <th>low</th>\n",
       "      <th>close</th>\n",
       "      <th>adj_close</th>\n",
       "      <th>volume</th>\n",
       "      <th>Company</th>\n",
       "    </tr>\n",
       "  </thead>\n",
       "  <tbody>\n",
       "    <tr>\n",
       "      <th>0</th>\n",
       "      <td>2005-04-22</td>\n",
       "      <td>59.000000</td>\n",
       "      <td>59.000000</td>\n",
       "      <td>48.000000</td>\n",
       "      <td>49.049999</td>\n",
       "      <td>41.943699</td>\n",
       "      <td>33041772.0</td>\n",
       "      <td>1</td>\n",
       "    </tr>\n",
       "    <tr>\n",
       "      <th>1</th>\n",
       "      <td>2005-04-25</td>\n",
       "      <td>49.450001</td>\n",
       "      <td>49.849998</td>\n",
       "      <td>47.099998</td>\n",
       "      <td>47.480000</td>\n",
       "      <td>40.601158</td>\n",
       "      <td>10215112.0</td>\n",
       "      <td>1</td>\n",
       "    </tr>\n",
       "    <tr>\n",
       "      <th>2</th>\n",
       "      <td>2005-04-26</td>\n",
       "      <td>47.830002</td>\n",
       "      <td>48.130001</td>\n",
       "      <td>46.549999</td>\n",
       "      <td>46.700001</td>\n",
       "      <td>39.934158</td>\n",
       "      <td>6801556.0</td>\n",
       "      <td>1</td>\n",
       "    </tr>\n",
       "    <tr>\n",
       "      <th>3</th>\n",
       "      <td>2005-04-27</td>\n",
       "      <td>46.700001</td>\n",
       "      <td>50.880001</td>\n",
       "      <td>46.180000</td>\n",
       "      <td>48.049999</td>\n",
       "      <td>41.088577</td>\n",
       "      <td>18723616.0</td>\n",
       "      <td>1</td>\n",
       "    </tr>\n",
       "    <tr>\n",
       "      <th>4</th>\n",
       "      <td>2005-04-28</td>\n",
       "      <td>48.000000</td>\n",
       "      <td>49.349998</td>\n",
       "      <td>47.330002</td>\n",
       "      <td>47.779999</td>\n",
       "      <td>40.857693</td>\n",
       "      <td>7412076.0</td>\n",
       "      <td>1</td>\n",
       "    </tr>\n",
       "  </tbody>\n",
       "</table>\n",
       "</div>"
      ],
      "text/plain": [
       "         Date       open       high        low      close  adj_close  \\\n",
       "0  2005-04-22  59.000000  59.000000  48.000000  49.049999  41.943699   \n",
       "1  2005-04-25  49.450001  49.849998  47.099998  47.480000  40.601158   \n",
       "2  2005-04-26  47.830002  48.130001  46.549999  46.700001  39.934158   \n",
       "3  2005-04-27  46.700001  50.880001  46.180000  48.049999  41.088577   \n",
       "4  2005-04-28  48.000000  49.349998  47.330002  47.779999  40.857693   \n",
       "\n",
       "       volume  Company  \n",
       "0  33041772.0        1  \n",
       "1  10215112.0        1  \n",
       "2   6801556.0        1  \n",
       "3  18723616.0        1  \n",
       "4   7412076.0        1  "
      ]
     },
     "execution_count": 12,
     "metadata": {},
     "output_type": "execute_result"
    }
   ],
   "source": [
    "df = df.rename(columns={'Companie': 'Company'})\n",
    "df.head()"
   ]
  },
  {
   "cell_type": "code",
   "execution_count": 13,
   "metadata": {},
   "outputs": [
    {
     "data": {
      "text/plain": [
       "(217328, 8)"
      ]
     },
     "execution_count": 13,
     "metadata": {},
     "output_type": "execute_result"
    }
   ],
   "source": [
    "df.shape"
   ]
  },
  {
   "cell_type": "code",
   "execution_count": 14,
   "metadata": {},
   "outputs": [
    {
     "name": "stdout",
     "output_type": "stream",
     "text": [
      "<class 'pandas.core.frame.DataFrame'>\n",
      "Int64Index: 217328 entries, 0 to 4551\n",
      "Data columns (total 8 columns):\n",
      "Date         217328 non-null object\n",
      "open         217328 non-null float64\n",
      "high         217328 non-null float64\n",
      "low          217328 non-null float64\n",
      "close        217328 non-null float64\n",
      "adj_close    217328 non-null float64\n",
      "volume       217328 non-null float64\n",
      "Company      217328 non-null int64\n",
      "dtypes: float64(6), int64(1), object(1)\n",
      "memory usage: 14.9+ MB\n"
     ]
    }
   ],
   "source": [
    "df.info()"
   ]
  },
  {
   "cell_type": "code",
   "execution_count": 15,
   "metadata": {},
   "outputs": [
    {
     "data": {
      "text/html": [
       "<div>\n",
       "<style scoped>\n",
       "    .dataframe tbody tr th:only-of-type {\n",
       "        vertical-align: middle;\n",
       "    }\n",
       "\n",
       "    .dataframe tbody tr th {\n",
       "        vertical-align: top;\n",
       "    }\n",
       "\n",
       "    .dataframe thead th {\n",
       "        text-align: right;\n",
       "    }\n",
       "</style>\n",
       "<table border=\"1\" class=\"dataframe\">\n",
       "  <thead>\n",
       "    <tr style=\"text-align: right;\">\n",
       "      <th></th>\n",
       "      <th>Company</th>\n",
       "      <th>open</th>\n",
       "      <th>high</th>\n",
       "      <th>low</th>\n",
       "      <th>close</th>\n",
       "      <th>adj_close</th>\n",
       "      <th>volume</th>\n",
       "    </tr>\n",
       "  </thead>\n",
       "  <tbody>\n",
       "    <tr>\n",
       "      <th>0</th>\n",
       "      <td>1</td>\n",
       "      <td>45.385956</td>\n",
       "      <td>46.442273</td>\n",
       "      <td>44.189632</td>\n",
       "      <td>45.149331</td>\n",
       "      <td>41.664792</td>\n",
       "      <td>2.014464e+06</td>\n",
       "    </tr>\n",
       "    <tr>\n",
       "      <th>1</th>\n",
       "      <td>2</td>\n",
       "      <td>4096.195974</td>\n",
       "      <td>4161.262162</td>\n",
       "      <td>4027.010373</td>\n",
       "      <td>4086.509560</td>\n",
       "      <td>4086.509560</td>\n",
       "      <td>1.614830e+03</td>\n",
       "    </tr>\n",
       "    <tr>\n",
       "      <th>2</th>\n",
       "      <td>3</td>\n",
       "      <td>31.872144</td>\n",
       "      <td>32.682504</td>\n",
       "      <td>31.003551</td>\n",
       "      <td>31.666388</td>\n",
       "      <td>30.464483</td>\n",
       "      <td>1.931262e+05</td>\n",
       "    </tr>\n",
       "    <tr>\n",
       "      <th>3</th>\n",
       "      <td>4</td>\n",
       "      <td>31.872144</td>\n",
       "      <td>32.682504</td>\n",
       "      <td>31.003551</td>\n",
       "      <td>31.666388</td>\n",
       "      <td>30.464483</td>\n",
       "      <td>1.931262e+05</td>\n",
       "    </tr>\n",
       "    <tr>\n",
       "      <th>4</th>\n",
       "      <td>5</td>\n",
       "      <td>567.132955</td>\n",
       "      <td>579.297830</td>\n",
       "      <td>553.393286</td>\n",
       "      <td>565.732187</td>\n",
       "      <td>502.727239</td>\n",
       "      <td>1.638447e+06</td>\n",
       "    </tr>\n",
       "  </tbody>\n",
       "</table>\n",
       "</div>"
      ],
      "text/plain": [
       "   Company         open         high          low        close    adj_close  \\\n",
       "0        1    45.385956    46.442273    44.189632    45.149331    41.664792   \n",
       "1        2  4096.195974  4161.262162  4027.010373  4086.509560  4086.509560   \n",
       "2        3    31.872144    32.682504    31.003551    31.666388    30.464483   \n",
       "3        4    31.872144    32.682504    31.003551    31.666388    30.464483   \n",
       "4        5   567.132955   579.297830   553.393286   565.732187   502.727239   \n",
       "\n",
       "         volume  \n",
       "0  2.014464e+06  \n",
       "1  1.614830e+03  \n",
       "2  1.931262e+05  \n",
       "3  1.931262e+05  \n",
       "4  1.638447e+06  "
      ]
     },
     "execution_count": 15,
     "metadata": {},
     "output_type": "execute_result"
    }
   ],
   "source": [
    "df.groupby(['Company'], as_index=False).mean().head()\n"
   ]
  },
  {
   "cell_type": "markdown",
   "metadata": {},
   "source": [
    "in average almost all the companies finish the session with a rate under 1000"
   ]
  },
  {
   "cell_type": "code",
   "execution_count": 16,
   "metadata": {},
   "outputs": [
    {
     "data": {
      "text/plain": [
       "<matplotlib.axes._subplots.AxesSubplot at 0x2546d6f5048>"
      ]
     },
     "execution_count": 16,
     "metadata": {},
     "output_type": "execute_result"
    },
    {
     "data": {
      "image/png": "[encoded data removed]",
      "text/plain": [
       "<Figure size 864x576 with 1 Axes>"
      ]
     },
     "metadata": {},
     "output_type": "display_data"
    }
   ],
   "source": [
    "plt.figure(figsize=(12,8))\n",
    "sns.countplot(x='Company',data=df)\n"
   ]
  },
  {
   "cell_type": "markdown",
   "metadata": {},
   "source": [
    "we have almost for all the 50 Cmpanies,informations for more then 4000 days \n",
    "execpt 4"
   ]
  },
  {
   "cell_type": "code",
   "execution_count": 17,
   "metadata": {},
   "outputs": [
    {
     "data": {
      "text/plain": [
       "[<matplotlib.lines.Line2D at 0x2546deb4358>]"
      ]
     },
     "execution_count": 17,
     "metadata": {},
     "output_type": "execute_result"
    },
    {
     "data": {
      "image/png": "[encoded data removed]",
      "text/plain": [
       "<Figure size 432x288 with 2 Axes>"
      ]
     },
     "metadata": {},
     "output_type": "display_data"
    }
   ],
   "source": [
    "dd=df.groupby(['Company'], as_index=False).mean()\n",
    "plt.subplot(2,1,1)\n",
    "plt.plot(dd['Company'],dd['close'])\n",
    "plt.subplot(2,1,2)\n",
    "plt.plot(dd['Company'],dd['open'])"
   ]
  },
  {
   "cell_type": "markdown",
   "metadata": {},
   "source": [
    "this figure shows that there is no big difference between the close of a share and the open "
   ]
  },
  {
   "cell_type": "code",
   "execution_count": 18,
   "metadata": {},
   "outputs": [
    {
     "data": {
      "text/plain": [
       "[<matplotlib.lines.Line2D at 0x2546e7c6320>]"
      ]
     },
     "execution_count": 18,
     "metadata": {},
     "output_type": "execute_result"
    },
    {
     "data": {
      "image/png": "[encoded data removed]",
      "text/plain": [
       "<Figure size 432x288 with 2 Axes>"
      ]
     },
     "metadata": {},
     "output_type": "display_data"
    }
   ],
   "source": [
    "data1=df[df['Company']==1]\n",
    "plt.subplot(2,1,1)\n",
    "plt.plot(data1['open'],data1['close'])\n",
    "plt.subplot(2,1,2)\n",
    "plt.plot(data1['high'],data1['low'])"
   ]
  },
  {
   "cell_type": "markdown",
   "metadata": {},
   "source": [
    "there is a big correlation betweeen close and open values for company 1"
   ]
  },
  {
   "cell_type": "code",
   "execution_count": 19,
   "metadata": {},
   "outputs": [
    {
     "data": {
      "text/plain": [
       "[<matplotlib.lines.Line2D at 0x2546e867a90>]"
      ]
     },
     "execution_count": 19,
     "metadata": {},
     "output_type": "execute_result"
    },
    {
     "data": {
      "image/png": "[encoded data removed]",
      "text/plain": [
       "<Figure size 432x288 with 2 Axes>"
      ]
     },
     "metadata": {},
     "output_type": "display_data"
    }
   ],
   "source": [
    "data25=df[df['Company']==25]\n",
    "plt.subplot(2,1,1)\n",
    "plt.plot(data25['open'],data25['close'])\n",
    "plt.subplot(2,1,2)\n",
    "plt.plot(data25['high'],data25['low'])"
   ]
  },
  {
   "cell_type": "markdown",
   "metadata": {},
   "source": [
    "despite some noise there is big correation  betweeen close and open values for company 25"
   ]
  },
  {
   "cell_type": "markdown",
   "metadata": {},
   "source": [
    "there is a big correlation between the input variables"
   ]
  },
  {
   "cell_type": "code",
   "execution_count": 20,
   "metadata": {},
   "outputs": [],
   "source": [
    "def plot_correlation_map( df ):\n",
    "    corr = df.corr()\n",
    "    s , ax = plt.subplots( figsize =( 20 , 20 ) )\n",
    "    cmap = sns.diverging_palette( 220 , 10 , as_cmap = False )\n",
    "    s = sns.heatmap(\n",
    "        corr,\n",
    "        cmap = cmap,\n",
    "        square=True,\n",
    "        cbar_kws={ 'shrink' : .9 },\n",
    "        ax=ax,\n",
    "        annot = True,\n",
    "        annot_kws = { 'fontsize' : 12 }\n",
    "        )\n",
    "   "
   ]
  },
  {
   "cell_type": "code",
   "execution_count": 21,
   "metadata": {},
   "outputs": [
    {
     "data": {
      "image/png": "[encoded data removed]",
      "text/plain": [
       "<Figure size 1440x1440 with 2 Axes>"
      ]
     },
     "metadata": {},
     "output_type": "display_data"
    }
   ],
   "source": [
    "plot_correlation_map(data25)"
   ]
  },
  {
   "cell_type": "markdown",
   "metadata": {},
   "source": [
    "# adding the output"
   ]
  },
  {
   "cell_type": "code",
   "execution_count": 22,
   "metadata": {},
   "outputs": [
    {
     "data": {
      "text/html": [
       "<div>\n",
       "<style scoped>\n",
       "    .dataframe tbody tr th:only-of-type {\n",
       "        vertical-align: middle;\n",
       "    }\n",
       "\n",
       "    .dataframe tbody tr th {\n",
       "        vertical-align: top;\n",
       "    }\n",
       "\n",
       "    .dataframe thead th {\n",
       "        text-align: right;\n",
       "    }\n",
       "</style>\n",
       "<table border=\"1\" class=\"dataframe\">\n",
       "  <thead>\n",
       "    <tr style=\"text-align: right;\">\n",
       "      <th></th>\n",
       "      <th>Date</th>\n",
       "      <th>open</th>\n",
       "      <th>high</th>\n",
       "      <th>low</th>\n",
       "      <th>close</th>\n",
       "      <th>adj_close</th>\n",
       "      <th>volume</th>\n",
       "      <th>Company</th>\n",
       "      <th>variation</th>\n",
       "    </tr>\n",
       "  </thead>\n",
       "  <tbody>\n",
       "    <tr>\n",
       "      <th>0</th>\n",
       "      <td>2005-04-22</td>\n",
       "      <td>59.000000</td>\n",
       "      <td>59.000000</td>\n",
       "      <td>48.000000</td>\n",
       "      <td>49.049999</td>\n",
       "      <td>41.943699</td>\n",
       "      <td>33041772.0</td>\n",
       "      <td>1</td>\n",
       "      <td>22.426096</td>\n",
       "    </tr>\n",
       "    <tr>\n",
       "      <th>1</th>\n",
       "      <td>2005-04-25</td>\n",
       "      <td>49.450001</td>\n",
       "      <td>49.849998</td>\n",
       "      <td>47.099998</td>\n",
       "      <td>47.480000</td>\n",
       "      <td>40.601158</td>\n",
       "      <td>10215112.0</td>\n",
       "      <td>1</td>\n",
       "      <td>5.791912</td>\n",
       "    </tr>\n",
       "    <tr>\n",
       "      <th>2</th>\n",
       "      <td>2005-04-26</td>\n",
       "      <td>47.830002</td>\n",
       "      <td>48.130001</td>\n",
       "      <td>46.549999</td>\n",
       "      <td>46.700001</td>\n",
       "      <td>39.934158</td>\n",
       "      <td>6801556.0</td>\n",
       "      <td>1</td>\n",
       "      <td>3.383302</td>\n",
       "    </tr>\n",
       "    <tr>\n",
       "      <th>3</th>\n",
       "      <td>2005-04-27</td>\n",
       "      <td>46.700001</td>\n",
       "      <td>50.880001</td>\n",
       "      <td>46.180000</td>\n",
       "      <td>48.049999</td>\n",
       "      <td>41.088577</td>\n",
       "      <td>18723616.0</td>\n",
       "      <td>1</td>\n",
       "      <td>9.781480</td>\n",
       "    </tr>\n",
       "    <tr>\n",
       "      <th>4</th>\n",
       "      <td>2005-04-28</td>\n",
       "      <td>48.000000</td>\n",
       "      <td>49.349998</td>\n",
       "      <td>47.330002</td>\n",
       "      <td>47.779999</td>\n",
       "      <td>40.857693</td>\n",
       "      <td>7412076.0</td>\n",
       "      <td>1</td>\n",
       "      <td>4.227702</td>\n",
       "    </tr>\n",
       "  </tbody>\n",
       "</table>\n",
       "</div>"
      ],
      "text/plain": [
       "         Date       open       high        low      close  adj_close  \\\n",
       "0  2005-04-22  59.000000  59.000000  48.000000  49.049999  41.943699   \n",
       "1  2005-04-25  49.450001  49.849998  47.099998  47.480000  40.601158   \n",
       "2  2005-04-26  47.830002  48.130001  46.549999  46.700001  39.934158   \n",
       "3  2005-04-27  46.700001  50.880001  46.180000  48.049999  41.088577   \n",
       "4  2005-04-28  48.000000  49.349998  47.330002  47.779999  40.857693   \n",
       "\n",
       "       volume  Company  variation  \n",
       "0  33041772.0        1  22.426096  \n",
       "1  10215112.0        1   5.791912  \n",
       "2   6801556.0        1   3.383302  \n",
       "3  18723616.0        1   9.781480  \n",
       "4   7412076.0        1   4.227702  "
      ]
     },
     "execution_count": 22,
     "metadata": {},
     "output_type": "execute_result"
    }
   ],
   "source": [
    "list1=list(df['high'])\n",
    "list2=list(df['low'])\n",
    "list3=list(df['close'])\n",
    "df['variation']=list(map(lambda x,y,z:((x-y)/z)*100,list1,list2,list3))\n",
    "df.head()"
   ]
  },
  {
   "cell_type": "raw",
   "metadata": {},
   "source": [
    "# Investors use daily price variation data in a number of ways. The data serve foremost as an indicator of volatility. A stock with a very large daily price variation is very volatile and may be expected to change its value quickly over time. When daily price variations are small, it indicates more consensus within the market about the value of the stock. Stable daily price variations over time show that a stock is unlikely to shoot up or plummet in value on any given day."
   ]
  },
  {
   "cell_type": "code",
   "execution_count": 23,
   "metadata": {},
   "outputs": [
    {
     "data": {
      "text/html": [
       "<div>\n",
       "<style scoped>\n",
       "    .dataframe tbody tr th:only-of-type {\n",
       "        vertical-align: middle;\n",
       "    }\n",
       "\n",
       "    .dataframe tbody tr th {\n",
       "        vertical-align: top;\n",
       "    }\n",
       "\n",
       "    .dataframe thead th {\n",
       "        text-align: right;\n",
       "    }\n",
       "</style>\n",
       "<table border=\"1\" class=\"dataframe\">\n",
       "  <thead>\n",
       "    <tr style=\"text-align: right;\">\n",
       "      <th></th>\n",
       "      <th>open</th>\n",
       "      <th>high</th>\n",
       "      <th>low</th>\n",
       "      <th>close</th>\n",
       "      <th>adj_close</th>\n",
       "      <th>volume</th>\n",
       "      <th>variation</th>\n",
       "      <th>open</th>\n",
       "      <th>high</th>\n",
       "      <th>low</th>\n",
       "      <th>...</th>\n",
       "      <th>volume</th>\n",
       "      <th>variation</th>\n",
       "      <th>open</th>\n",
       "      <th>high</th>\n",
       "      <th>low</th>\n",
       "      <th>close</th>\n",
       "      <th>adj_close</th>\n",
       "      <th>volume</th>\n",
       "      <th>variation</th>\n",
       "      <th>Company</th>\n",
       "    </tr>\n",
       "  </thead>\n",
       "  <tbody>\n",
       "    <tr>\n",
       "      <th>0</th>\n",
       "      <td>NaN</td>\n",
       "      <td>NaN</td>\n",
       "      <td>NaN</td>\n",
       "      <td>NaN</td>\n",
       "      <td>NaN</td>\n",
       "      <td>NaN</td>\n",
       "      <td>NaN</td>\n",
       "      <td>NaN</td>\n",
       "      <td>NaN</td>\n",
       "      <td>NaN</td>\n",
       "      <td>...</td>\n",
       "      <td>NaN</td>\n",
       "      <td>NaN</td>\n",
       "      <td>59.000000</td>\n",
       "      <td>59.000000</td>\n",
       "      <td>48.000000</td>\n",
       "      <td>49.049999</td>\n",
       "      <td>41.943699</td>\n",
       "      <td>33041772.0</td>\n",
       "      <td>22.426096</td>\n",
       "      <td>1</td>\n",
       "    </tr>\n",
       "    <tr>\n",
       "      <th>1</th>\n",
       "      <td>NaN</td>\n",
       "      <td>NaN</td>\n",
       "      <td>NaN</td>\n",
       "      <td>NaN</td>\n",
       "      <td>NaN</td>\n",
       "      <td>NaN</td>\n",
       "      <td>NaN</td>\n",
       "      <td>NaN</td>\n",
       "      <td>NaN</td>\n",
       "      <td>NaN</td>\n",
       "      <td>...</td>\n",
       "      <td>33041772.0</td>\n",
       "      <td>22.426096</td>\n",
       "      <td>49.450001</td>\n",
       "      <td>49.849998</td>\n",
       "      <td>47.099998</td>\n",
       "      <td>47.480000</td>\n",
       "      <td>40.601158</td>\n",
       "      <td>10215112.0</td>\n",
       "      <td>5.791912</td>\n",
       "      <td>1</td>\n",
       "    </tr>\n",
       "    <tr>\n",
       "      <th>2</th>\n",
       "      <td>NaN</td>\n",
       "      <td>NaN</td>\n",
       "      <td>NaN</td>\n",
       "      <td>NaN</td>\n",
       "      <td>NaN</td>\n",
       "      <td>NaN</td>\n",
       "      <td>NaN</td>\n",
       "      <td>59.000000</td>\n",
       "      <td>59.000000</td>\n",
       "      <td>48.000000</td>\n",
       "      <td>...</td>\n",
       "      <td>10215112.0</td>\n",
       "      <td>5.791912</td>\n",
       "      <td>47.830002</td>\n",
       "      <td>48.130001</td>\n",
       "      <td>46.549999</td>\n",
       "      <td>46.700001</td>\n",
       "      <td>39.934158</td>\n",
       "      <td>6801556.0</td>\n",
       "      <td>3.383302</td>\n",
       "      <td>1</td>\n",
       "    </tr>\n",
       "    <tr>\n",
       "      <th>3</th>\n",
       "      <td>59.000000</td>\n",
       "      <td>59.000000</td>\n",
       "      <td>48.000000</td>\n",
       "      <td>49.049999</td>\n",
       "      <td>41.943699</td>\n",
       "      <td>33041772.0</td>\n",
       "      <td>22.426096</td>\n",
       "      <td>49.450001</td>\n",
       "      <td>49.849998</td>\n",
       "      <td>47.099998</td>\n",
       "      <td>...</td>\n",
       "      <td>6801556.0</td>\n",
       "      <td>3.383302</td>\n",
       "      <td>46.700001</td>\n",
       "      <td>50.880001</td>\n",
       "      <td>46.180000</td>\n",
       "      <td>48.049999</td>\n",
       "      <td>41.088577</td>\n",
       "      <td>18723616.0</td>\n",
       "      <td>9.781480</td>\n",
       "      <td>1</td>\n",
       "    </tr>\n",
       "    <tr>\n",
       "      <th>4</th>\n",
       "      <td>49.450001</td>\n",
       "      <td>49.849998</td>\n",
       "      <td>47.099998</td>\n",
       "      <td>47.480000</td>\n",
       "      <td>40.601158</td>\n",
       "      <td>10215112.0</td>\n",
       "      <td>5.791912</td>\n",
       "      <td>47.830002</td>\n",
       "      <td>48.130001</td>\n",
       "      <td>46.549999</td>\n",
       "      <td>...</td>\n",
       "      <td>18723616.0</td>\n",
       "      <td>9.781480</td>\n",
       "      <td>48.000000</td>\n",
       "      <td>49.349998</td>\n",
       "      <td>47.330002</td>\n",
       "      <td>47.779999</td>\n",
       "      <td>40.857693</td>\n",
       "      <td>7412076.0</td>\n",
       "      <td>4.227702</td>\n",
       "      <td>1</td>\n",
       "    </tr>\n",
       "  </tbody>\n",
       "</table>\n",
       "<p>5 rows × 29 columns</p>\n",
       "</div>"
      ],
      "text/plain": [
       "        open       high        low      close  adj_close      volume  \\\n",
       "0        NaN        NaN        NaN        NaN        NaN         NaN   \n",
       "1        NaN        NaN        NaN        NaN        NaN         NaN   \n",
       "2        NaN        NaN        NaN        NaN        NaN         NaN   \n",
       "3  59.000000  59.000000  48.000000  49.049999  41.943699  33041772.0   \n",
       "4  49.450001  49.849998  47.099998  47.480000  40.601158  10215112.0   \n",
       "\n",
       "   variation       open       high        low   ...         volume  variation  \\\n",
       "0        NaN        NaN        NaN        NaN   ...            NaN        NaN   \n",
       "1        NaN        NaN        NaN        NaN   ...     33041772.0  22.426096   \n",
       "2        NaN  59.000000  59.000000  48.000000   ...     10215112.0   5.791912   \n",
       "3  22.426096  49.450001  49.849998  47.099998   ...      6801556.0   3.383302   \n",
       "4   5.791912  47.830002  48.130001  46.549999   ...     18723616.0   9.781480   \n",
       "\n",
       "        open       high        low      close  adj_close      volume  \\\n",
       "0  59.000000  59.000000  48.000000  49.049999  41.943699  33041772.0   \n",
       "1  49.450001  49.849998  47.099998  47.480000  40.601158  10215112.0   \n",
       "2  47.830002  48.130001  46.549999  46.700001  39.934158   6801556.0   \n",
       "3  46.700001  50.880001  46.180000  48.049999  41.088577  18723616.0   \n",
       "4  48.000000  49.349998  47.330002  47.779999  40.857693   7412076.0   \n",
       "\n",
       "   variation  Company  \n",
       "0  22.426096        1  \n",
       "1   5.791912        1  \n",
       "2   3.383302        1  \n",
       "3   9.781480        1  \n",
       "4   4.227702        1  \n",
       "\n",
       "[5 rows x 29 columns]"
      ]
     },
     "execution_count": 23,
     "metadata": {},
     "output_type": "execute_result"
    }
   ],
   "source": [
    "col = ['open', 'high', 'low', 'close', 'adj_close', 'volume', 'variation']\n",
    "data = df[col]\n",
    "x1 = data.shift(1)\n",
    "x2 = data.shift(2)\n",
    "x3 = data.shift(3)\n",
    "\n",
    "data = pd.concat([x3,x2, x1, data], axis=1)\n",
    "data['Company']=df['Company']\n",
    "data.head()"
   ]
  },
  {
   "cell_type": "code",
   "execution_count": 24,
   "metadata": {},
   "outputs": [
    {
     "data": {
      "text/html": [
       "<div>\n",
       "<style scoped>\n",
       "    .dataframe tbody tr th:only-of-type {\n",
       "        vertical-align: middle;\n",
       "    }\n",
       "\n",
       "    .dataframe tbody tr th {\n",
       "        vertical-align: top;\n",
       "    }\n",
       "\n",
       "    .dataframe thead th {\n",
       "        text-align: right;\n",
       "    }\n",
       "</style>\n",
       "<table border=\"1\" class=\"dataframe\">\n",
       "  <thead>\n",
       "    <tr style=\"text-align: right;\">\n",
       "      <th></th>\n",
       "      <th>open</th>\n",
       "      <th>high</th>\n",
       "      <th>low</th>\n",
       "      <th>close</th>\n",
       "      <th>adj_close</th>\n",
       "      <th>volume</th>\n",
       "      <th>variation</th>\n",
       "      <th>open</th>\n",
       "      <th>high</th>\n",
       "      <th>low</th>\n",
       "      <th>...</th>\n",
       "      <th>volume</th>\n",
       "      <th>variation</th>\n",
       "      <th>open</th>\n",
       "      <th>high</th>\n",
       "      <th>low</th>\n",
       "      <th>close</th>\n",
       "      <th>adj_close</th>\n",
       "      <th>volume</th>\n",
       "      <th>variation</th>\n",
       "      <th>Company</th>\n",
       "    </tr>\n",
       "  </thead>\n",
       "  <tbody>\n",
       "    <tr>\n",
       "      <th>3</th>\n",
       "      <td>59.000000</td>\n",
       "      <td>59.000000</td>\n",
       "      <td>48.000000</td>\n",
       "      <td>49.049999</td>\n",
       "      <td>41.943699</td>\n",
       "      <td>33041772.0</td>\n",
       "      <td>22.426096</td>\n",
       "      <td>49.450001</td>\n",
       "      <td>49.849998</td>\n",
       "      <td>47.099998</td>\n",
       "      <td>...</td>\n",
       "      <td>6801556.0</td>\n",
       "      <td>3.383302</td>\n",
       "      <td>46.700001</td>\n",
       "      <td>50.880001</td>\n",
       "      <td>46.180000</td>\n",
       "      <td>48.049999</td>\n",
       "      <td>41.088577</td>\n",
       "      <td>18723616.0</td>\n",
       "      <td>9.781480</td>\n",
       "      <td>1</td>\n",
       "    </tr>\n",
       "    <tr>\n",
       "      <th>4</th>\n",
       "      <td>49.450001</td>\n",
       "      <td>49.849998</td>\n",
       "      <td>47.099998</td>\n",
       "      <td>47.480000</td>\n",
       "      <td>40.601158</td>\n",
       "      <td>10215112.0</td>\n",
       "      <td>5.791912</td>\n",
       "      <td>47.830002</td>\n",
       "      <td>48.130001</td>\n",
       "      <td>46.549999</td>\n",
       "      <td>...</td>\n",
       "      <td>18723616.0</td>\n",
       "      <td>9.781480</td>\n",
       "      <td>48.000000</td>\n",
       "      <td>49.349998</td>\n",
       "      <td>47.330002</td>\n",
       "      <td>47.779999</td>\n",
       "      <td>40.857693</td>\n",
       "      <td>7412076.0</td>\n",
       "      <td>4.227702</td>\n",
       "      <td>1</td>\n",
       "    </tr>\n",
       "    <tr>\n",
       "      <th>5</th>\n",
       "      <td>47.830002</td>\n",
       "      <td>48.130001</td>\n",
       "      <td>46.549999</td>\n",
       "      <td>46.700001</td>\n",
       "      <td>39.934158</td>\n",
       "      <td>6801556.0</td>\n",
       "      <td>3.383302</td>\n",
       "      <td>46.700001</td>\n",
       "      <td>50.880001</td>\n",
       "      <td>46.180000</td>\n",
       "      <td>...</td>\n",
       "      <td>7412076.0</td>\n",
       "      <td>4.227702</td>\n",
       "      <td>47.930000</td>\n",
       "      <td>48.430000</td>\n",
       "      <td>46.250000</td>\n",
       "      <td>46.700001</td>\n",
       "      <td>39.934158</td>\n",
       "      <td>4424740.0</td>\n",
       "      <td>4.668094</td>\n",
       "      <td>1</td>\n",
       "    </tr>\n",
       "    <tr>\n",
       "      <th>6</th>\n",
       "      <td>46.700001</td>\n",
       "      <td>50.880001</td>\n",
       "      <td>46.180000</td>\n",
       "      <td>48.049999</td>\n",
       "      <td>41.088577</td>\n",
       "      <td>18723616.0</td>\n",
       "      <td>9.781480</td>\n",
       "      <td>48.000000</td>\n",
       "      <td>49.349998</td>\n",
       "      <td>47.330002</td>\n",
       "      <td>...</td>\n",
       "      <td>4424740.0</td>\n",
       "      <td>4.668094</td>\n",
       "      <td>51.000000</td>\n",
       "      <td>51.000000</td>\n",
       "      <td>46.799999</td>\n",
       "      <td>47.080002</td>\n",
       "      <td>40.259109</td>\n",
       "      <td>3559280.0</td>\n",
       "      <td>8.920987</td>\n",
       "      <td>1</td>\n",
       "    </tr>\n",
       "    <tr>\n",
       "      <th>7</th>\n",
       "      <td>48.000000</td>\n",
       "      <td>49.349998</td>\n",
       "      <td>47.330002</td>\n",
       "      <td>47.779999</td>\n",
       "      <td>40.857693</td>\n",
       "      <td>7412076.0</td>\n",
       "      <td>4.227702</td>\n",
       "      <td>47.930000</td>\n",
       "      <td>48.430000</td>\n",
       "      <td>46.250000</td>\n",
       "      <td>...</td>\n",
       "      <td>3559280.0</td>\n",
       "      <td>8.920987</td>\n",
       "      <td>47.230000</td>\n",
       "      <td>47.680000</td>\n",
       "      <td>46.349998</td>\n",
       "      <td>46.580002</td>\n",
       "      <td>39.831551</td>\n",
       "      <td>3360272.0</td>\n",
       "      <td>2.855307</td>\n",
       "      <td>1</td>\n",
       "    </tr>\n",
       "  </tbody>\n",
       "</table>\n",
       "<p>5 rows × 29 columns</p>\n",
       "</div>"
      ],
      "text/plain": [
       "        open       high        low      close  adj_close      volume  \\\n",
       "3  59.000000  59.000000  48.000000  49.049999  41.943699  33041772.0   \n",
       "4  49.450001  49.849998  47.099998  47.480000  40.601158  10215112.0   \n",
       "5  47.830002  48.130001  46.549999  46.700001  39.934158   6801556.0   \n",
       "6  46.700001  50.880001  46.180000  48.049999  41.088577  18723616.0   \n",
       "7  48.000000  49.349998  47.330002  47.779999  40.857693   7412076.0   \n",
       "\n",
       "   variation       open       high        low   ...         volume  variation  \\\n",
       "3  22.426096  49.450001  49.849998  47.099998   ...      6801556.0   3.383302   \n",
       "4   5.791912  47.830002  48.130001  46.549999   ...     18723616.0   9.781480   \n",
       "5   3.383302  46.700001  50.880001  46.180000   ...      7412076.0   4.227702   \n",
       "6   9.781480  48.000000  49.349998  47.330002   ...      4424740.0   4.668094   \n",
       "7   4.227702  47.930000  48.430000  46.250000   ...      3559280.0   8.920987   \n",
       "\n",
       "        open       high        low      close  adj_close      volume  \\\n",
       "3  46.700001  50.880001  46.180000  48.049999  41.088577  18723616.0   \n",
       "4  48.000000  49.349998  47.330002  47.779999  40.857693   7412076.0   \n",
       "5  47.930000  48.430000  46.250000  46.700001  39.934158   4424740.0   \n",
       "6  51.000000  51.000000  46.799999  47.080002  40.259109   3559280.0   \n",
       "7  47.230000  47.680000  46.349998  46.580002  39.831551   3360272.0   \n",
       "\n",
       "   variation  Company  \n",
       "3   9.781480        1  \n",
       "4   4.227702        1  \n",
       "5   4.668094        1  \n",
       "6   8.920987        1  \n",
       "7   2.855307        1  \n",
       "\n",
       "[5 rows x 29 columns]"
      ]
     },
     "execution_count": 24,
     "metadata": {},
     "output_type": "execute_result"
    }
   ],
   "source": [
    "data=data.dropna()\n",
    "data.head()"
   ]
  },
  {
   "cell_type": "code",
   "execution_count": 25,
   "metadata": {},
   "outputs": [],
   "source": [
    "col=['open1','high1', 'low1', 'close1', 'adj_close1', 'volume1','variation1', 'open2', 'high2', 'low2', 'close2', 'adj_close2', 'volume2', 'variation2', 'open3', 'high3', 'low3', 'close3', 'adj_close3','volume3', 'variation3', 'open4', 'high4', 'low4', 'close4', 'adj_close4','volume4', 'variation4','Company']"
   ]
  },
  {
   "cell_type": "code",
   "execution_count": 26,
   "metadata": {},
   "outputs": [],
   "source": [
    "#new=pd.DataFrame(data,columns=col)\n",
    "data.columns = col\n",
    "data.index= range(0,data.shape[0])"
   ]
  },
  {
   "cell_type": "code",
   "execution_count": 27,
   "metadata": {},
   "outputs": [
    {
     "data": {
      "text/html": [
       "<div>\n",
       "<style scoped>\n",
       "    .dataframe tbody tr th:only-of-type {\n",
       "        vertical-align: middle;\n",
       "    }\n",
       "\n",
       "    .dataframe tbody tr th {\n",
       "        vertical-align: top;\n",
       "    }\n",
       "\n",
       "    .dataframe thead th {\n",
       "        text-align: right;\n",
       "    }\n",
       "</style>\n",
       "<table border=\"1\" class=\"dataframe\">\n",
       "  <thead>\n",
       "    <tr style=\"text-align: right;\">\n",
       "      <th></th>\n",
       "      <th>open1</th>\n",
       "      <th>high1</th>\n",
       "      <th>low1</th>\n",
       "      <th>close1</th>\n",
       "      <th>adj_close1</th>\n",
       "      <th>volume1</th>\n",
       "      <th>variation1</th>\n",
       "      <th>open2</th>\n",
       "      <th>high2</th>\n",
       "      <th>low2</th>\n",
       "      <th>...</th>\n",
       "      <th>volume3</th>\n",
       "      <th>variation3</th>\n",
       "      <th>open4</th>\n",
       "      <th>high4</th>\n",
       "      <th>low4</th>\n",
       "      <th>close4</th>\n",
       "      <th>adj_close4</th>\n",
       "      <th>volume4</th>\n",
       "      <th>variation4</th>\n",
       "      <th>Company</th>\n",
       "    </tr>\n",
       "  </thead>\n",
       "  <tbody>\n",
       "    <tr>\n",
       "      <th>0</th>\n",
       "      <td>59.000000</td>\n",
       "      <td>59.000000</td>\n",
       "      <td>48.000000</td>\n",
       "      <td>49.049999</td>\n",
       "      <td>41.943699</td>\n",
       "      <td>33041772.0</td>\n",
       "      <td>22.426096</td>\n",
       "      <td>49.450001</td>\n",
       "      <td>49.849998</td>\n",
       "      <td>47.099998</td>\n",
       "      <td>...</td>\n",
       "      <td>6801556.0</td>\n",
       "      <td>3.383302</td>\n",
       "      <td>46.700001</td>\n",
       "      <td>50.880001</td>\n",
       "      <td>46.180000</td>\n",
       "      <td>48.049999</td>\n",
       "      <td>41.088577</td>\n",
       "      <td>18723616.0</td>\n",
       "      <td>9.781480</td>\n",
       "      <td>1</td>\n",
       "    </tr>\n",
       "    <tr>\n",
       "      <th>1</th>\n",
       "      <td>49.450001</td>\n",
       "      <td>49.849998</td>\n",
       "      <td>47.099998</td>\n",
       "      <td>47.480000</td>\n",
       "      <td>40.601158</td>\n",
       "      <td>10215112.0</td>\n",
       "      <td>5.791912</td>\n",
       "      <td>47.830002</td>\n",
       "      <td>48.130001</td>\n",
       "      <td>46.549999</td>\n",
       "      <td>...</td>\n",
       "      <td>18723616.0</td>\n",
       "      <td>9.781480</td>\n",
       "      <td>48.000000</td>\n",
       "      <td>49.349998</td>\n",
       "      <td>47.330002</td>\n",
       "      <td>47.779999</td>\n",
       "      <td>40.857693</td>\n",
       "      <td>7412076.0</td>\n",
       "      <td>4.227702</td>\n",
       "      <td>1</td>\n",
       "    </tr>\n",
       "    <tr>\n",
       "      <th>2</th>\n",
       "      <td>47.830002</td>\n",
       "      <td>48.130001</td>\n",
       "      <td>46.549999</td>\n",
       "      <td>46.700001</td>\n",
       "      <td>39.934158</td>\n",
       "      <td>6801556.0</td>\n",
       "      <td>3.383302</td>\n",
       "      <td>46.700001</td>\n",
       "      <td>50.880001</td>\n",
       "      <td>46.180000</td>\n",
       "      <td>...</td>\n",
       "      <td>7412076.0</td>\n",
       "      <td>4.227702</td>\n",
       "      <td>47.930000</td>\n",
       "      <td>48.430000</td>\n",
       "      <td>46.250000</td>\n",
       "      <td>46.700001</td>\n",
       "      <td>39.934158</td>\n",
       "      <td>4424740.0</td>\n",
       "      <td>4.668094</td>\n",
       "      <td>1</td>\n",
       "    </tr>\n",
       "    <tr>\n",
       "      <th>3</th>\n",
       "      <td>46.700001</td>\n",
       "      <td>50.880001</td>\n",
       "      <td>46.180000</td>\n",
       "      <td>48.049999</td>\n",
       "      <td>41.088577</td>\n",
       "      <td>18723616.0</td>\n",
       "      <td>9.781480</td>\n",
       "      <td>48.000000</td>\n",
       "      <td>49.349998</td>\n",
       "      <td>47.330002</td>\n",
       "      <td>...</td>\n",
       "      <td>4424740.0</td>\n",
       "      <td>4.668094</td>\n",
       "      <td>51.000000</td>\n",
       "      <td>51.000000</td>\n",
       "      <td>46.799999</td>\n",
       "      <td>47.080002</td>\n",
       "      <td>40.259109</td>\n",
       "      <td>3559280.0</td>\n",
       "      <td>8.920987</td>\n",
       "      <td>1</td>\n",
       "    </tr>\n",
       "    <tr>\n",
       "      <th>4</th>\n",
       "      <td>48.000000</td>\n",
       "      <td>49.349998</td>\n",
       "      <td>47.330002</td>\n",
       "      <td>47.779999</td>\n",
       "      <td>40.857693</td>\n",
       "      <td>7412076.0</td>\n",
       "      <td>4.227702</td>\n",
       "      <td>47.930000</td>\n",
       "      <td>48.430000</td>\n",
       "      <td>46.250000</td>\n",
       "      <td>...</td>\n",
       "      <td>3559280.0</td>\n",
       "      <td>8.920987</td>\n",
       "      <td>47.230000</td>\n",
       "      <td>47.680000</td>\n",
       "      <td>46.349998</td>\n",
       "      <td>46.580002</td>\n",
       "      <td>39.831551</td>\n",
       "      <td>3360272.0</td>\n",
       "      <td>2.855307</td>\n",
       "      <td>1</td>\n",
       "    </tr>\n",
       "  </tbody>\n",
       "</table>\n",
       "<p>5 rows × 29 columns</p>\n",
       "</div>"
      ],
      "text/plain": [
       "       open1      high1       low1     close1  adj_close1     volume1  \\\n",
       "0  59.000000  59.000000  48.000000  49.049999   41.943699  33041772.0   \n",
       "1  49.450001  49.849998  47.099998  47.480000   40.601158  10215112.0   \n",
       "2  47.830002  48.130001  46.549999  46.700001   39.934158   6801556.0   \n",
       "3  46.700001  50.880001  46.180000  48.049999   41.088577  18723616.0   \n",
       "4  48.000000  49.349998  47.330002  47.779999   40.857693   7412076.0   \n",
       "\n",
       "   variation1      open2      high2       low2   ...        volume3  \\\n",
       "0   22.426096  49.450001  49.849998  47.099998   ...      6801556.0   \n",
       "1    5.791912  47.830002  48.130001  46.549999   ...     18723616.0   \n",
       "2    3.383302  46.700001  50.880001  46.180000   ...      7412076.0   \n",
       "3    9.781480  48.000000  49.349998  47.330002   ...      4424740.0   \n",
       "4    4.227702  47.930000  48.430000  46.250000   ...      3559280.0   \n",
       "\n",
       "   variation3      open4      high4       low4     close4  adj_close4  \\\n",
       "0    3.383302  46.700001  50.880001  46.180000  48.049999   41.088577   \n",
       "1    9.781480  48.000000  49.349998  47.330002  47.779999   40.857693   \n",
       "2    4.227702  47.930000  48.430000  46.250000  46.700001   39.934158   \n",
       "3    4.668094  51.000000  51.000000  46.799999  47.080002   40.259109   \n",
       "4    8.920987  47.230000  47.680000  46.349998  46.580002   39.831551   \n",
       "\n",
       "      volume4  variation4  Company  \n",
       "0  18723616.0    9.781480        1  \n",
       "1   7412076.0    4.227702        1  \n",
       "2   4424740.0    4.668094        1  \n",
       "3   3559280.0    8.920987        1  \n",
       "4   3360272.0    2.855307        1  \n",
       "\n",
       "[5 rows x 29 columns]"
      ]
     },
     "execution_count": 27,
     "metadata": {},
     "output_type": "execute_result"
    }
   ],
   "source": [
    "data.head()"
   ]
  },
  {
   "cell_type": "code",
   "execution_count": 28,
   "metadata": {},
   "outputs": [],
   "source": [
    "data=data.rename(columns={'variation4':'up_variation'})"
   ]
  },
  {
   "cell_type": "code",
   "execution_count": 29,
   "metadata": {},
   "outputs": [
    {
     "name": "stdout",
     "output_type": "stream",
     "text": [
      "(217325, 29)\n"
     ]
    },
    {
     "data": {
      "text/plain": [
       "(217328, 9)"
      ]
     },
     "execution_count": 29,
     "metadata": {},
     "output_type": "execute_result"
    }
   ],
   "source": [
    "print(data.shape)\n",
    "df.shape"
   ]
  },
  {
   "cell_type": "code",
   "execution_count": 30,
   "metadata": {},
   "outputs": [
    {
     "data": {
      "text/plain": [
       "Index(['open1', 'high1', 'low1', 'close1', 'adj_close1', 'volume1',\n",
       "       'variation1', 'open2', 'high2', 'low2', 'close2', 'adj_close2',\n",
       "       'volume2', 'variation2', 'open3', 'high3', 'low3', 'close3',\n",
       "       'adj_close3', 'volume3', 'variation3', 'open4', 'high4', 'low4',\n",
       "       'close4', 'adj_close4', 'volume4', 'up_variation', 'Company'],\n",
       "      dtype='object')"
      ]
     },
     "execution_count": 30,
     "metadata": {},
     "output_type": "execute_result"
    }
   ],
   "source": [
    "data.columns"
   ]
  },
  {
   "cell_type": "code",
   "execution_count": 31,
   "metadata": {},
   "outputs": [
    {
     "data": {
      "text/html": [
       "<div>\n",
       "<style scoped>\n",
       "    .dataframe tbody tr th:only-of-type {\n",
       "        vertical-align: middle;\n",
       "    }\n",
       "\n",
       "    .dataframe tbody tr th {\n",
       "        vertical-align: top;\n",
       "    }\n",
       "\n",
       "    .dataframe thead th {\n",
       "        text-align: right;\n",
       "    }\n",
       "</style>\n",
       "<table border=\"1\" class=\"dataframe\">\n",
       "  <thead>\n",
       "    <tr style=\"text-align: right;\">\n",
       "      <th></th>\n",
       "      <th>Company</th>\n",
       "      <th>open1</th>\n",
       "      <th>high1</th>\n",
       "      <th>low1</th>\n",
       "      <th>close1</th>\n",
       "      <th>adj_close1</th>\n",
       "      <th>volume1</th>\n",
       "      <th>variation1</th>\n",
       "      <th>open2</th>\n",
       "      <th>high2</th>\n",
       "      <th>...</th>\n",
       "      <th>adj_close3</th>\n",
       "      <th>volume3</th>\n",
       "      <th>variation3</th>\n",
       "      <th>open4</th>\n",
       "      <th>high4</th>\n",
       "      <th>low4</th>\n",
       "      <th>close4</th>\n",
       "      <th>adj_close4</th>\n",
       "      <th>volume4</th>\n",
       "      <th>up_variation</th>\n",
       "    </tr>\n",
       "  </thead>\n",
       "  <tbody>\n",
       "    <tr>\n",
       "      <th>0</th>\n",
       "      <td>1</td>\n",
       "      <td>45.423458</td>\n",
       "      <td>46.480574</td>\n",
       "      <td>44.226202</td>\n",
       "      <td>45.186720</td>\n",
       "      <td>41.698864</td>\n",
       "      <td>2.009934e+06</td>\n",
       "      <td>5.335558</td>\n",
       "      <td>45.406612</td>\n",
       "      <td>46.463807</td>\n",
       "      <td>...</td>\n",
       "      <td>41.676483</td>\n",
       "      <td>2.000885e+06</td>\n",
       "      <td>5.331407</td>\n",
       "      <td>45.379572</td>\n",
       "      <td>46.436672</td>\n",
       "      <td>44.186751</td>\n",
       "      <td>45.146862</td>\n",
       "      <td>41.665590</td>\n",
       "      <td>2.000500e+06</td>\n",
       "      <td>5.332600</td>\n",
       "    </tr>\n",
       "    <tr>\n",
       "      <th>1</th>\n",
       "      <td>2</td>\n",
       "      <td>4079.862861</td>\n",
       "      <td>4144.760867</td>\n",
       "      <td>4011.322778</td>\n",
       "      <td>4070.711398</td>\n",
       "      <td>4070.711398</td>\n",
       "      <td>6.875803e+03</td>\n",
       "      <td>3.592048</td>\n",
       "      <td>4085.483374</td>\n",
       "      <td>4150.457280</td>\n",
       "      <td>...</td>\n",
       "      <td>4081.351129</td>\n",
       "      <td>3.061835e+03</td>\n",
       "      <td>3.590818</td>\n",
       "      <td>4096.195974</td>\n",
       "      <td>4161.262162</td>\n",
       "      <td>4027.010373</td>\n",
       "      <td>4086.509560</td>\n",
       "      <td>4086.509560</td>\n",
       "      <td>1.614830e+03</td>\n",
       "      <td>3.590273</td>\n",
       "    </tr>\n",
       "    <tr>\n",
       "      <th>2</th>\n",
       "      <td>3</td>\n",
       "      <td>59.203138</td>\n",
       "      <td>60.293842</td>\n",
       "      <td>57.253769</td>\n",
       "      <td>58.101271</td>\n",
       "      <td>56.899367</td>\n",
       "      <td>1.929303e+05</td>\n",
       "      <td>5.510735</td>\n",
       "      <td>49.797253</td>\n",
       "      <td>50.761718</td>\n",
       "      <td>...</td>\n",
       "      <td>39.096174</td>\n",
       "      <td>1.930927e+05</td>\n",
       "      <td>5.511735</td>\n",
       "      <td>31.872144</td>\n",
       "      <td>32.682504</td>\n",
       "      <td>31.003551</td>\n",
       "      <td>31.666388</td>\n",
       "      <td>30.464483</td>\n",
       "      <td>1.931262e+05</td>\n",
       "      <td>5.511877</td>\n",
       "    </tr>\n",
       "    <tr>\n",
       "      <th>3</th>\n",
       "      <td>4</td>\n",
       "      <td>31.872144</td>\n",
       "      <td>32.682504</td>\n",
       "      <td>31.003551</td>\n",
       "      <td>31.666388</td>\n",
       "      <td>30.464483</td>\n",
       "      <td>1.931262e+05</td>\n",
       "      <td>5.511877</td>\n",
       "      <td>31.872144</td>\n",
       "      <td>32.682504</td>\n",
       "      <td>...</td>\n",
       "      <td>30.464483</td>\n",
       "      <td>1.931262e+05</td>\n",
       "      <td>5.511877</td>\n",
       "      <td>31.872144</td>\n",
       "      <td>32.682504</td>\n",
       "      <td>31.003551</td>\n",
       "      <td>31.666388</td>\n",
       "      <td>30.464483</td>\n",
       "      <td>1.931262e+05</td>\n",
       "      <td>5.511877</td>\n",
       "    </tr>\n",
       "    <tr>\n",
       "      <th>4</th>\n",
       "      <td>5</td>\n",
       "      <td>566.864718</td>\n",
       "      <td>579.026075</td>\n",
       "      <td>553.132743</td>\n",
       "      <td>565.466711</td>\n",
       "      <td>502.461763</td>\n",
       "      <td>1.636498e+06</td>\n",
       "      <td>4.304202</td>\n",
       "      <td>566.955890</td>\n",
       "      <td>579.117570</td>\n",
       "      <td>...</td>\n",
       "      <td>502.638138</td>\n",
       "      <td>1.637516e+06</td>\n",
       "      <td>4.303351</td>\n",
       "      <td>567.132955</td>\n",
       "      <td>579.297830</td>\n",
       "      <td>553.393286</td>\n",
       "      <td>565.732187</td>\n",
       "      <td>502.727239</td>\n",
       "      <td>1.638447e+06</td>\n",
       "      <td>4.303155</td>\n",
       "    </tr>\n",
       "  </tbody>\n",
       "</table>\n",
       "<p>5 rows × 29 columns</p>\n",
       "</div>"
      ],
      "text/plain": [
       "   Company        open1        high1         low1       close1   adj_close1  \\\n",
       "0        1    45.423458    46.480574    44.226202    45.186720    41.698864   \n",
       "1        2  4079.862861  4144.760867  4011.322778  4070.711398  4070.711398   \n",
       "2        3    59.203138    60.293842    57.253769    58.101271    56.899367   \n",
       "3        4    31.872144    32.682504    31.003551    31.666388    30.464483   \n",
       "4        5   566.864718   579.026075   553.132743   565.466711   502.461763   \n",
       "\n",
       "        volume1  variation1        open2        high2      ...       \\\n",
       "0  2.009934e+06    5.335558    45.406612    46.463807      ...        \n",
       "1  6.875803e+03    3.592048  4085.483374  4150.457280      ...        \n",
       "2  1.929303e+05    5.510735    49.797253    50.761718      ...        \n",
       "3  1.931262e+05    5.511877    31.872144    32.682504      ...        \n",
       "4  1.636498e+06    4.304202   566.955890   579.117570      ...        \n",
       "\n",
       "    adj_close3       volume3  variation3        open4        high4  \\\n",
       "0    41.676483  2.000885e+06    5.331407    45.379572    46.436672   \n",
       "1  4081.351129  3.061835e+03    3.590818  4096.195974  4161.262162   \n",
       "2    39.096174  1.930927e+05    5.511735    31.872144    32.682504   \n",
       "3    30.464483  1.931262e+05    5.511877    31.872144    32.682504   \n",
       "4   502.638138  1.637516e+06    4.303351   567.132955   579.297830   \n",
       "\n",
       "          low4       close4   adj_close4       volume4  up_variation  \n",
       "0    44.186751    45.146862    41.665590  2.000500e+06      5.332600  \n",
       "1  4027.010373  4086.509560  4086.509560  1.614830e+03      3.590273  \n",
       "2    31.003551    31.666388    30.464483  1.931262e+05      5.511877  \n",
       "3    31.003551    31.666388    30.464483  1.931262e+05      5.511877  \n",
       "4   553.393286   565.732187   502.727239  1.638447e+06      4.303155  \n",
       "\n",
       "[5 rows x 29 columns]"
      ]
     },
     "execution_count": 31,
     "metadata": {},
     "output_type": "execute_result"
    }
   ],
   "source": [
    "dd=data.groupby(['Company'], as_index=False).mean()\n",
    "dd.head()"
   ]
  },
  {
   "cell_type": "code",
   "execution_count": 32,
   "metadata": {},
   "outputs": [
    {
     "data": {
      "text/plain": [
       "[<matplotlib.lines.Line2D at 0x2546cd0e320>]"
      ]
     },
     "execution_count": 32,
     "metadata": {},
     "output_type": "execute_result"
    },
    {
     "data": {
      "image/png": "[encoded data removed]",
      "text/plain": [
       "<Figure size 432x288 with 1 Axes>"
      ]
     },
     "metadata": {},
     "output_type": "display_data"
    }
   ],
   "source": [
    "plt.plot(dd['Company'],dd['up_variation'])"
   ]
  },
  {
   "cell_type": "markdown",
   "metadata": {},
   "source": [
    "in average , for all the copanies, the up variation is almost 0\n",
    "\n",
    "another cathegory is highly positive these companies are successfull \n",
    "\n",
    "and he last one is highly negative these companies are not"
   ]
  },
  {
   "cell_type": "code",
   "execution_count": 33,
   "metadata": {},
   "outputs": [
    {
     "data": {
      "image/png": "[encoded data removed]",
      "text/plain": [
       "<Figure size 1440x1440 with 2 Axes>"
      ]
     },
     "metadata": {},
     "output_type": "display_data"
    }
   ],
   "source": [
    "\n",
    "plot_correlation_map(data)\n"
   ]
  },
  {
   "cell_type": "markdown",
   "metadata": {},
   "source": [
    "drop adj_close //open3==close2 drop close2 // open2==close 1 drop close 1\n",
    "\n",
    "there is high correlation between volume and up_variation and volume i with volume j \n",
    "\n",
    "variation high correlation between high and low\n",
    "and negatively with close\n"
   ]
  },
  {
   "cell_type": "code",
   "execution_count": 34,
   "metadata": {},
   "outputs": [
    {
     "data": {
      "text/plain": [
       "[<matplotlib.lines.Line2D at 0x2546f75a908>]"
      ]
     },
     "execution_count": 34,
     "metadata": {},
     "output_type": "execute_result"
    },
    {
     "data": {
      "image/png": "[encoded data removed]",
      "text/plain": [
       "<Figure size 432x288 with 1 Axes>"
      ]
     },
     "metadata": {},
     "output_type": "display_data"
    }
   ],
   "source": [
    "plt.plot(data['volume3'],data['up_variation'])"
   ]
  },
  {
   "cell_type": "code",
   "execution_count": 35,
   "metadata": {},
   "outputs": [
    {
     "data": {
      "text/plain": [
       "[<matplotlib.lines.Line2D at 0x25401016e10>]"
      ]
     },
     "execution_count": 35,
     "metadata": {},
     "output_type": "execute_result"
    },
    {
     "data": {
      "image/png": "[encoded data removed]",
      "text/plain": [
       "<Figure size 432x288 with 1 Axes>"
      ]
     },
     "metadata": {},
     "output_type": "display_data"
    }
   ],
   "source": [
    "plt.plot(data['volume1'],data['volume2'])"
   ]
  },
  {
   "cell_type": "markdown",
   "metadata": {},
   "source": [
    "the correlation between volume1 , volume2 is very week "
   ]
  },
  {
   "cell_type": "code",
   "execution_count": 36,
   "metadata": {},
   "outputs": [
    {
     "data": {
      "text/plain": [
       "[<matplotlib.lines.Line2D at 0x25400c38b70>]"
      ]
     },
     "execution_count": 36,
     "metadata": {},
     "output_type": "execute_result"
    },
    {
     "data": {
      "image/png": "[encoded data removed]",
      "text/plain": [
       "<Figure size 432x288 with 1 Axes>"
      ]
     },
     "metadata": {},
     "output_type": "display_data"
    }
   ],
   "source": [
    "plt.plot(data['high1'],data['low1'])"
   ]
  },
  {
   "cell_type": "code",
   "execution_count": 37,
   "metadata": {},
   "outputs": [
    {
     "data": {
      "text/plain": [
       "[<matplotlib.lines.Line2D at 0x25400c9f2b0>]"
      ]
     },
     "execution_count": 37,
     "metadata": {},
     "output_type": "execute_result"
    },
    {
     "data": {
      "image/png": "[encoded data removed]",
      "text/plain": [
       "<Figure size 432x288 with 1 Axes>"
      ]
     },
     "metadata": {},
     "output_type": "display_data"
    }
   ],
   "source": [
    "plt.plot(data['high1'],data['high3'])"
   ]
  },
  {
   "cell_type": "markdown",
   "metadata": {},
   "source": [
    "their is important correlation between high1, and 3 "
   ]
  },
  {
   "cell_type": "code",
   "execution_count": 38,
   "metadata": {},
   "outputs": [
    {
     "data": {
      "text/plain": [
       "[<matplotlib.lines.Line2D at 0x25400cffba8>]"
      ]
     },
     "execution_count": 38,
     "metadata": {},
     "output_type": "execute_result"
    },
    {
     "data": {
      "image/png": "[encoded data removed]",
      "text/plain": [
       "<Figure size 432x288 with 1 Axes>"
      ]
     },
     "metadata": {},
     "output_type": "display_data"
    }
   ],
   "source": [
    "plt.plot(data['variation1'])"
   ]
  },
  {
   "cell_type": "markdown",
   "metadata": {},
   "source": [
    "almost all the companies are not volatile with variation in [0 ,40]"
   ]
  },
  {
   "cell_type": "markdown",
   "metadata": {},
   "source": [
    "# cleaning DATA"
   ]
  },
  {
   "cell_type": "code",
   "execution_count": 39,
   "metadata": {},
   "outputs": [
    {
     "data": {
      "text/plain": [
       "Index(['open1', 'high1', 'low1', 'volume1', 'variation1', 'open2', 'high2',\n",
       "       'low2', 'volume2', 'variation2', 'open3', 'high3', 'low3', 'volume3',\n",
       "       'variation3', 'open4', 'high4', 'low4', 'close4', 'adj_close4',\n",
       "       'volume4', 'up_variation', 'Company'],\n",
       "      dtype='object')"
      ]
     },
     "execution_count": 39,
     "metadata": {},
     "output_type": "execute_result"
    }
   ],
   "source": [
    "copyDATA=data.drop(['adj_close1','adj_close2','adj_close3','close2','close1','close3','adj_close3'],axis=1)\n",
    "copyDATA.columns"
   ]
  },
  {
   "cell_type": "markdown",
   "metadata": {},
   "source": [
    "# Modeling"
   ]
  },
  {
   "cell_type": "markdown",
   "metadata": {},
   "source": [
    "Linear regression "
   ]
  },
  {
   "cell_type": "code",
   "execution_count": 40,
   "metadata": {},
   "outputs": [],
   "source": [
    "copyDATA_l=copyDATA.copy()\n",
    "y=['up_variation']\n",
    "X=[i for i in copyDATA_l if i not in y]"
   ]
  },
  {
   "cell_type": "code",
   "execution_count": 41,
   "metadata": {},
   "outputs": [
    {
     "name": "stderr",
     "output_type": "stream",
     "text": [
      "c:\\users\\rihab\\appdata\\local\\programs\\python\\python37\\lib\\site-packages\\sklearn\\utils\\validation.py:578: DataConversionWarning: A column-vector y was passed when a 1d array was expected. Please change the shape of y to (n_samples, ), for example using ravel().\n",
      "  y = column_or_1d(y, warn=True)\n"
     ]
    },
    {
     "name": "stdout",
     "output_type": "stream",
     "text": [
      "[False False False False  True False False False False  True False False\n",
      " False False  True False  True  True  True False False False]\n",
      "[12  9  8 16  1 11  7  6 17  1 10  3  2 15  1  4  1  1  1 13 14  5]\n"
     ]
    }
   ],
   "source": [
    "from sklearn.feature_selection import RFE\n",
    "from sklearn.linear_model import LinearRegression\n",
    "\n",
    "model = LinearRegression(normalize=True)\n",
    "\n",
    "rfe = RFE(model,6)\n",
    "rfe = rfe.fit(copyDATA_l[X],copyDATA_l[y])\n",
    "\n",
    "print(rfe.support_)\n",
    "print(rfe.ranking_)"
   ]
  },
  {
   "cell_type": "code",
   "execution_count": 42,
   "metadata": {},
   "outputs": [],
   "source": [
    "rank=rfe.ranking_\n",
    "my_list=list(copyDATA_l.columns)\n",
    "new_list=[]\n",
    "for i in range(len(rank)):\n",
    "    if (rank[i]==1):\n",
    "        new_list.append(my_list[i])"
   ]
  },
  {
   "cell_type": "code",
   "execution_count": 43,
   "metadata": {},
   "outputs": [],
   "source": [
    "X_s=copyDATA_l[new_list]\n",
    "y=copyDATA_l['up_variation']"
   ]
  },
  {
   "cell_type": "code",
   "execution_count": 44,
   "metadata": {},
   "outputs": [],
   "source": [
    "from sklearn.model_selection import train_test_split\n",
    "X_train, X_test, y_train, y_test = train_test_split(X_s, y, test_size=0.65, random_state=0)"
   ]
  },
  {
   "cell_type": "code",
   "execution_count": 45,
   "metadata": {},
   "outputs": [
    {
     "data": {
      "text/plain": [
       "LinearRegression(copy_X=True, fit_intercept=True, n_jobs=1, normalize=True)"
      ]
     },
     "execution_count": 45,
     "metadata": {},
     "output_type": "execute_result"
    }
   ],
   "source": [
    "model.fit(X_train,y_train)\n"
   ]
  },
  {
   "cell_type": "code",
   "execution_count": 46,
   "metadata": {},
   "outputs": [
    {
     "data": {
      "text/plain": [
       "0.2095326632898019"
      ]
     },
     "execution_count": 46,
     "metadata": {},
     "output_type": "execute_result"
    }
   ],
   "source": [
    "model.score(X_test,y_test)"
   ]
  },
  {
   "cell_type": "markdown",
   "metadata": {},
   "source": [
    "logistic regression"
   ]
  },
  {
   "cell_type": "code",
   "execution_count": 84,
   "metadata": {},
   "outputs": [
    {
     "data": {
      "text/plain": [
       "<matplotlib.axes._subplots.AxesSubplot at 0x25401395908>"
      ]
     },
     "execution_count": 84,
     "metadata": {},
     "output_type": "execute_result"
    },
    {
     "data": {
      "image/png": "[encoded data removed]",
      "text/plain": [
       "<Figure size 432x288 with 1 Axes>"
      ]
     },
     "metadata": {},
     "output_type": "display_data"
    }
   ],
   "source": [
    "copyDATA_log=copyDATA.copy()\n",
    "\n",
    "comp['variation3']=list(map(lambda x: x/2,copyDATA_log['variation3']))\n",
    "copyDATA_log.loc[copyDATA_log['up_variation'] > comp['variation3'], 'up_variation'] = 1\n",
    "copyDATA_log.loc[copyDATA_log['up_variation'] <= comp['variation3'], 'up_variation'] = 0\n",
    "copyDATA_log.head()\n",
    "sns.countplot(x='up_variation',data=copyDATA_log)"
   ]
  },
  {
   "cell_type": "code",
   "execution_count": 93,
   "metadata": {},
   "outputs": [
    {
     "data": {
      "text/html": [
       "<div>\n",
       "<style scoped>\n",
       "    .dataframe tbody tr th:only-of-type {\n",
       "        vertical-align: middle;\n",
       "    }\n",
       "\n",
       "    .dataframe tbody tr th {\n",
       "        vertical-align: top;\n",
       "    }\n",
       "\n",
       "    .dataframe thead th {\n",
       "        text-align: right;\n",
       "    }\n",
       "</style>\n",
       "<table border=\"1\" class=\"dataframe\">\n",
       "  <thead>\n",
       "    <tr style=\"text-align: right;\">\n",
       "      <th></th>\n",
       "      <th>open1</th>\n",
       "      <th>high1</th>\n",
       "      <th>low1</th>\n",
       "      <th>volume1</th>\n",
       "      <th>variation1</th>\n",
       "      <th>open2</th>\n",
       "      <th>low2</th>\n",
       "      <th>volume2</th>\n",
       "      <th>variation2</th>\n",
       "      <th>open3</th>\n",
       "      <th>low3</th>\n",
       "      <th>volume3</th>\n",
       "      <th>variation3</th>\n",
       "      <th>open4</th>\n",
       "      <th>high4</th>\n",
       "      <th>low4</th>\n",
       "      <th>close4</th>\n",
       "      <th>adj_close4</th>\n",
       "      <th>volume4</th>\n",
       "      <th>Company</th>\n",
       "    </tr>\n",
       "  </thead>\n",
       "  <tbody>\n",
       "    <tr>\n",
       "      <th>0</th>\n",
       "      <td>59.000000</td>\n",
       "      <td>59.000000</td>\n",
       "      <td>48.000000</td>\n",
       "      <td>33041772.0</td>\n",
       "      <td>22.426096</td>\n",
       "      <td>49.450001</td>\n",
       "      <td>47.099998</td>\n",
       "      <td>10215112.0</td>\n",
       "      <td>5.791912</td>\n",
       "      <td>47.830002</td>\n",
       "      <td>46.549999</td>\n",
       "      <td>6801556.0</td>\n",
       "      <td>3.383302</td>\n",
       "      <td>46.700001</td>\n",
       "      <td>50.880001</td>\n",
       "      <td>46.180000</td>\n",
       "      <td>48.049999</td>\n",
       "      <td>41.088577</td>\n",
       "      <td>18723616.0</td>\n",
       "      <td>1</td>\n",
       "    </tr>\n",
       "    <tr>\n",
       "      <th>1</th>\n",
       "      <td>49.450001</td>\n",
       "      <td>49.849998</td>\n",
       "      <td>47.099998</td>\n",
       "      <td>10215112.0</td>\n",
       "      <td>5.791912</td>\n",
       "      <td>47.830002</td>\n",
       "      <td>46.549999</td>\n",
       "      <td>6801556.0</td>\n",
       "      <td>3.383302</td>\n",
       "      <td>46.700001</td>\n",
       "      <td>46.180000</td>\n",
       "      <td>18723616.0</td>\n",
       "      <td>9.781480</td>\n",
       "      <td>48.000000</td>\n",
       "      <td>49.349998</td>\n",
       "      <td>47.330002</td>\n",
       "      <td>47.779999</td>\n",
       "      <td>40.857693</td>\n",
       "      <td>7412076.0</td>\n",
       "      <td>1</td>\n",
       "    </tr>\n",
       "    <tr>\n",
       "      <th>2</th>\n",
       "      <td>47.830002</td>\n",
       "      <td>48.130001</td>\n",
       "      <td>46.549999</td>\n",
       "      <td>6801556.0</td>\n",
       "      <td>3.383302</td>\n",
       "      <td>46.700001</td>\n",
       "      <td>46.180000</td>\n",
       "      <td>18723616.0</td>\n",
       "      <td>9.781480</td>\n",
       "      <td>48.000000</td>\n",
       "      <td>47.330002</td>\n",
       "      <td>7412076.0</td>\n",
       "      <td>4.227702</td>\n",
       "      <td>47.930000</td>\n",
       "      <td>48.430000</td>\n",
       "      <td>46.250000</td>\n",
       "      <td>46.700001</td>\n",
       "      <td>39.934158</td>\n",
       "      <td>4424740.0</td>\n",
       "      <td>1</td>\n",
       "    </tr>\n",
       "    <tr>\n",
       "      <th>3</th>\n",
       "      <td>46.700001</td>\n",
       "      <td>50.880001</td>\n",
       "      <td>46.180000</td>\n",
       "      <td>18723616.0</td>\n",
       "      <td>9.781480</td>\n",
       "      <td>48.000000</td>\n",
       "      <td>47.330002</td>\n",
       "      <td>7412076.0</td>\n",
       "      <td>4.227702</td>\n",
       "      <td>47.930000</td>\n",
       "      <td>46.250000</td>\n",
       "      <td>4424740.0</td>\n",
       "      <td>4.668094</td>\n",
       "      <td>51.000000</td>\n",
       "      <td>51.000000</td>\n",
       "      <td>46.799999</td>\n",
       "      <td>47.080002</td>\n",
       "      <td>40.259109</td>\n",
       "      <td>3559280.0</td>\n",
       "      <td>1</td>\n",
       "    </tr>\n",
       "    <tr>\n",
       "      <th>4</th>\n",
       "      <td>48.000000</td>\n",
       "      <td>49.349998</td>\n",
       "      <td>47.330002</td>\n",
       "      <td>7412076.0</td>\n",
       "      <td>4.227702</td>\n",
       "      <td>47.930000</td>\n",
       "      <td>46.250000</td>\n",
       "      <td>4424740.0</td>\n",
       "      <td>4.668094</td>\n",
       "      <td>51.000000</td>\n",
       "      <td>46.799999</td>\n",
       "      <td>3559280.0</td>\n",
       "      <td>8.920987</td>\n",
       "      <td>47.230000</td>\n",
       "      <td>47.680000</td>\n",
       "      <td>46.349998</td>\n",
       "      <td>46.580002</td>\n",
       "      <td>39.831551</td>\n",
       "      <td>3360272.0</td>\n",
       "      <td>1</td>\n",
       "    </tr>\n",
       "  </tbody>\n",
       "</table>\n",
       "</div>"
      ],
      "text/plain": [
       "       open1      high1       low1     volume1  variation1      open2  \\\n",
       "0  59.000000  59.000000  48.000000  33041772.0   22.426096  49.450001   \n",
       "1  49.450001  49.849998  47.099998  10215112.0    5.791912  47.830002   \n",
       "2  47.830002  48.130001  46.549999   6801556.0    3.383302  46.700001   \n",
       "3  46.700001  50.880001  46.180000  18723616.0    9.781480  48.000000   \n",
       "4  48.000000  49.349998  47.330002   7412076.0    4.227702  47.930000   \n",
       "\n",
       "        low2     volume2  variation2      open3       low3     volume3  \\\n",
       "0  47.099998  10215112.0    5.791912  47.830002  46.549999   6801556.0   \n",
       "1  46.549999   6801556.0    3.383302  46.700001  46.180000  18723616.0   \n",
       "2  46.180000  18723616.0    9.781480  48.000000  47.330002   7412076.0   \n",
       "3  47.330002   7412076.0    4.227702  47.930000  46.250000   4424740.0   \n",
       "4  46.250000   4424740.0    4.668094  51.000000  46.799999   3559280.0   \n",
       "\n",
       "   variation3      open4      high4       low4     close4  adj_close4  \\\n",
       "0    3.383302  46.700001  50.880001  46.180000  48.049999   41.088577   \n",
       "1    9.781480  48.000000  49.349998  47.330002  47.779999   40.857693   \n",
       "2    4.227702  47.930000  48.430000  46.250000  46.700001   39.934158   \n",
       "3    4.668094  51.000000  51.000000  46.799999  47.080002   40.259109   \n",
       "4    8.920987  47.230000  47.680000  46.349998  46.580002   39.831551   \n",
       "\n",
       "      volume4  Company  \n",
       "0  18723616.0        1  \n",
       "1   7412076.0        1  \n",
       "2   4424740.0        1  \n",
       "3   3559280.0        1  \n",
       "4   3360272.0        1  "
      ]
     },
     "execution_count": 93,
     "metadata": {},
     "output_type": "execute_result"
    }
   ],
   "source": [
    "\n",
    "#logistic reg \n",
    "y_log=copyDATA_log['up_variation']\n",
    "X_log=copyDATA_log.copy()\n",
    "X_log=X_log.drop(['up_variation','high2','high3'],axis=1)\n",
    "X_log.head()"
   ]
  },
  {
   "cell_type": "code",
   "execution_count": 94,
   "metadata": {},
   "outputs": [
    {
     "data": {
      "text/plain": [
       "LogisticRegression(C=1.0, class_weight=None, dual=False, fit_intercept=True,\n",
       "          intercept_scaling=1, max_iter=100, multi_class='ovr', n_jobs=1,\n",
       "          penalty='l2', random_state=None, solver='liblinear', tol=0.0001,\n",
       "          verbose=0, warm_start=False)"
      ]
     },
     "execution_count": 94,
     "metadata": {},
     "output_type": "execute_result"
    }
   ],
   "source": [
    "from sklearn.model_selection import train_test_split\n",
    "X_train, X_test, y_train, y_test = train_test_split(X_log, y_log, test_size=0.3, random_state=0)\n",
    "\n",
    "from sklearn.linear_model import LogisticRegression\n",
    "from sklearn import metrics\n",
    "\n",
    "logreg = LogisticRegression()\n",
    "logreg.fit(X_train, y_train)"
   ]
  },
  {
   "cell_type": "code",
   "execution_count": 96,
   "metadata": {},
   "outputs": [
    {
     "name": "stdout",
     "output_type": "stream",
     "text": [
      "Accuracy of logistic regression classifier on test set: 0.83\n"
     ]
    }
   ],
   "source": [
    "y_pred = logreg.predict(X_test)\n",
    "print('Accuracy of logistic regression classifier on test set: {:.2f}'.format(logreg.score(X_test, y_test)))"
   ]
  },
  {
   "cell_type": "code",
   "execution_count": 105,
   "metadata": {},
   "outputs": [
    {
     "data": {
      "text/plain": [
       "[<matplotlib.lines.Line2D at 0x25414048c18>]"
      ]
     },
     "execution_count": 105,
     "metadata": {},
     "output_type": "execute_result"
    },
    {
     "data": {
      "image/png": "[encoded data removed]",
      "text/plain": [
       "<Figure size 432x288 with 2 Axes>"
      ]
     },
     "metadata": {},
     "output_type": "display_data"
    }
   ],
   "source": [
    "plt.subplot(2,1,1)\n",
    "plt.plot(y_pred)\n",
    "plt.subplot(2,1,2)\n",
    "plt.plot(y_test)"
   ]
  },
  {
   "cell_type": "code",
   "execution_count": 101,
   "metadata": {},
   "outputs": [
    {
     "data": {
      "text/plain": [
       "[<matplotlib.lines.Line2D at 0x254002f3d68>]"
      ]
     },
     "execution_count": 101,
     "metadata": {},
     "output_type": "execute_result"
    },
    {
     "data": {
      "image/png": "[encoded data removed]",
      "text/plain": [
       "<Figure size 432x288 with 1 Axes>"
      ]
     },
     "metadata": {},
     "output_type": "display_data"
    }
   ],
   "source": []
  },
  {
   "cell_type": "code",
   "execution_count": null,
   "metadata": {},
   "outputs": [],
   "source": []
  }
 ],
 "metadata": {
  "kernelspec": {
   "display_name": "Python 3",
   "language": "python",
   "name": "python3"
  },
  "language_info": {
   "codemirror_mode": {
    "name": "ipython",
    "version": 3
   },
   "file_extension": ".py",
   "mimetype": "text/x-python",
   "name": "python",
   "nbconvert_exporter": "python",
   "pygments_lexer": "ipython3",
   "version": "3.7.0"
  }
 },
 "nbformat": 4,
 "nbformat_minor": 2
}
